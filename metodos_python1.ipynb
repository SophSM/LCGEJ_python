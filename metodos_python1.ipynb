{
 "cells": [
  {
   "cell_type": "markdown",
   "id": "80e3d3ca",
   "metadata": {},
   "source": [
    "OPERACIONES BASICAS PYTHON\n",
    "Sofia Salazar\n",
    "18 ago 2021"
   ]
  },
  {
   "cell_type": "code",
   "execution_count": 2,
   "id": "d7c9f6ce",
   "metadata": {},
   "outputs": [
    {
     "name": "stdout",
     "output_type": "stream",
     "text": [
      "4 <class 'int'>\n"
     ]
    }
   ],
   "source": [
    "x = 4 # Declarar la variable\n",
    "print(x, type(x)) # Imprimir el tipo de 3"
   ]
  },
  {
   "cell_type": "code",
   "execution_count": 3,
   "id": "3be638e4",
   "metadata": {},
   "outputs": [
    {
     "name": "stdout",
     "output_type": "stream",
     "text": [
      "7\n",
      "1\n",
      "12\n"
     ]
    }
   ],
   "source": [
    "print(x + 3) # Suma\n",
    "print(x - 3) # Resta\n",
    "print(x * 3) # Multiplicacion"
   ]
  },
  {
   "cell_type": "code",
   "execution_count": 4,
   "id": "c6bc6b4a",
   "metadata": {},
   "outputs": [
    {
     "name": "stdout",
     "output_type": "stream",
     "text": [
      "4\n",
      "5\n",
      "10\n"
     ]
    }
   ],
   "source": [
    "print(x)\n",
    "x += 1 # Igual que x = x +1\n",
    "print(x)\n",
    "x *= 2\n",
    "print(x)"
   ]
  },
  {
   "cell_type": "code",
   "execution_count": 5,
   "id": "689ffdec",
   "metadata": {},
   "outputs": [
    {
     "name": "stdout",
     "output_type": "stream",
     "text": [
      "<class 'float'>\n",
      "2.5 3.5 5.0 6.25\n"
     ]
    }
   ],
   "source": [
    "y = 2.5\n",
    "print(type(y))\n",
    "print(y, y+1, y * 2, y**2)"
   ]
  },
  {
   "cell_type": "code",
   "execution_count": 7,
   "id": "12347780",
   "metadata": {},
   "outputs": [
    {
     "name": "stdout",
     "output_type": "stream",
     "text": [
      "<class 'bool'>\n",
      "<class 'bool'>\n",
      "True\n",
      "False\n"
     ]
    }
   ],
   "source": [
    "t, f = True, False\n",
    "print(type(t)) # Tiene que decir que es un booleano\n",
    "print(type(f))\n",
    "print(t)\n",
    "print(f)"
   ]
  },
  {
   "cell_type": "markdown",
   "id": "8ac9649f",
   "metadata": {},
   "source": [
    "Operadores logicos"
   ]
  },
  {
   "cell_type": "code",
   "execution_count": 8,
   "id": "99b4b55d",
   "metadata": {},
   "outputs": [
    {
     "name": "stdout",
     "output_type": "stream",
     "text": [
      "False\n",
      "True\n",
      "False\n",
      "True\n"
     ]
    }
   ],
   "source": [
    "print(t and f) # AND, &\n",
    "print(t or f) # OR, |\n",
    "print(not t)\n",
    "print( t!= f) # XOR, distinto a"
   ]
  },
  {
   "cell_type": "markdown",
   "id": "e9a2dcae",
   "metadata": {},
   "source": [
    "Cadenas de texto"
   ]
  },
  {
   "cell_type": "code",
   "execution_count": 9,
   "id": "3a603183",
   "metadata": {},
   "outputs": [
    {
     "name": "stdout",
     "output_type": "stream",
     "text": [
      "hello 5\n"
     ]
    }
   ],
   "source": [
    "hello = 'hello'\n",
    "world = 'world'\n",
    "print(hello, len(hello))\n"
   ]
  },
  {
   "cell_type": "code",
   "execution_count": null,
   "id": "087f65ec",
   "metadata": {},
   "outputs": [],
   "source": [
    "hw = hello + ' ' + world # Concatencacion de cadenas"
   ]
  },
  {
   "cell_type": "code",
   "execution_count": 15,
   "id": "49083229",
   "metadata": {},
   "outputs": [
    {
     "name": "stdout",
     "output_type": "stream",
     "text": [
      "Hello\n",
      "HELLO\n",
      "  hello\n",
      " hello \n",
      "he(ell)(ell)o\n",
      "world\n"
     ]
    }
   ],
   "source": [
    "s = \"hello\"\n",
    "print(s.capitalize()) # primera en mayuscula\n",
    "print(s.upper()) # todo en mayuscula\n",
    "print(s.rjust(7)) # justificar con 7 espacios\n",
    "print(s.center(7)) # centrar con 7 espacios\n",
    "print(s.replace('l', '(ell)')) # remplazar l con (ell)\n",
    "print('   world     '.strip()) # le quita los espacios a lo que le de antes"
   ]
  },
  {
   "cell_type": "markdown",
   "id": "da693a2c",
   "metadata": {},
   "source": [
    "Listas"
   ]
  },
  {
   "cell_type": "code",
   "execution_count": 11,
   "id": "91007c13",
   "metadata": {},
   "outputs": [
    {
     "name": "stdout",
     "output_type": "stream",
     "text": [
      "[0, 1, 2, 3] 2\n",
      "3\n"
     ]
    }
   ],
   "source": [
    "xs = [0, 1, 2, 3]\n",
    "print(xs, xs[2])\n",
    "print(xs[-1]) # acceder al ultimo valor de la lista"
   ]
  },
  {
   "cell_type": "code",
   "execution_count": 12,
   "id": "64cc116a",
   "metadata": {},
   "outputs": [
    {
     "name": "stdout",
     "output_type": "stream",
     "text": [
      "[0, 1, 'fox2', 3]\n"
     ]
    }
   ],
   "source": [
    "xs[2] = 'fox2' # remplazar un valor de la lista\n",
    "print(xs)"
   ]
  },
  {
   "cell_type": "code",
   "execution_count": 13,
   "id": "c0cf95e0",
   "metadata": {},
   "outputs": [
    {
     "name": "stdout",
     "output_type": "stream",
     "text": [
      "[0, 1, 'fox2', 3, 'bar']\n"
     ]
    }
   ],
   "source": [
    "xs.append('bar')\n",
    "print(xs) # agregar un elemento al final"
   ]
  },
  {
   "cell_type": "code",
   "execution_count": 14,
   "id": "50b06c5a",
   "metadata": {},
   "outputs": [
    {
     "name": "stdout",
     "output_type": "stream",
     "text": [
      "bar [0, 1, 'fox2', 3]\n"
     ]
    }
   ],
   "source": [
    "x = xs.pop() # sacar el valor de la lista y asignarlo a una variable\n",
    "print(x, xs) # tambien se modifica la lista y se quita ese valor"
   ]
  },
  {
   "cell_type": "code",
   "execution_count": 16,
   "id": "9a1f66f5",
   "metadata": {},
   "outputs": [
    {
     "name": "stdout",
     "output_type": "stream",
     "text": [
      "[0, 1, 2, 3, 4]\n",
      "[2, 3]\n",
      "[2, 3, 4]\n",
      "[0, 1]\n",
      "[0, 1, 2, 3]\n",
      "[0, 1, 8, 9, 4]\n"
     ]
    }
   ],
   "source": [
    "nums = list(range(5)) # hace una lista del 0 al 4\n",
    "print(nums)\n",
    "print(nums[2:4])\n",
    "print(nums[2:]) # del 2 al final\n",
    "print(nums[:2]) # del principio al 2\n",
    "print(nums[:-1]) # del penultimo al principio\n",
    "nums[2:4] = [8, 9] # remplazar unos valores\n",
    "print(nums)\n"
   ]
  },
  {
   "cell_type": "code",
   "execution_count": 17,
   "id": "4ef1e4c1",
   "metadata": {},
   "outputs": [
    {
     "name": "stdout",
     "output_type": "stream",
     "text": [
      "gato\n",
      "perro\n",
      "chango\n"
     ]
    }
   ],
   "source": [
    "animales = ['gato', 'perro', 'chango'] # imprimir elementos en lista (iterar)\n",
    "for animal in animales:\n",
    "    print(animal)"
   ]
  },
  {
   "cell_type": "code",
   "execution_count": 18,
   "id": "49b1e335",
   "metadata": {},
   "outputs": [
    {
     "name": "stdout",
     "output_type": "stream",
     "text": [
      "#1: gato\n",
      "#2: perro\n",
      "#3: chango\n"
     ]
    }
   ],
   "source": [
    "animales = ['gato', 'perro', 'chango'] \n",
    "for idx, animal in enumerate(animales): # primero da el index y luego el valor para ese iterador\n",
    "    print('#{}: {}'.format(idx + 1, animal)) # dentro de format se ponen los valores que\n",
    "    # se van a asignar a los {}"
   ]
  },
  {
   "cell_type": "code",
   "execution_count": 19,
   "id": "84e2512e",
   "metadata": {},
   "outputs": [
    {
     "name": "stdout",
     "output_type": "stream",
     "text": [
      "[0, 1, 4, 9, 16]\n"
     ]
    }
   ],
   "source": [
    "nums = [0, 1, 2, 3, 4]\n",
    "squares = []\n",
    "for x in nums: # agregar los cuadrados a la lista squares\n",
    "    squares.append(x**2)\n",
    "print(squares)"
   ]
  },
  {
   "cell_type": "markdown",
   "id": "277041ef",
   "metadata": {},
   "source": [
    "List comprehensions (comprensiones de listas)"
   ]
  },
  {
   "cell_type": "code",
   "execution_count": null,
   "id": "fe633ddd",
   "metadata": {},
   "outputs": [],
   "source": [
    "nums = [0, 1, 2, 3, 4] # hace lo mismo que arriba en una sola linea\n",
    "squares = [x**2 for x in nums] # hago x**2 antes de declarar x\n",
    "print(squares)"
   ]
  },
  {
   "cell_type": "code",
   "execution_count": null,
   "id": "b349bc72",
   "metadata": {},
   "outputs": [],
   "source": [
    "nums = [0, 1, 2, 3, 4]\n",
    "even_squares = [x**2 for x in nums if x % 2==0] # imprimir solo los cuadrados de los pares\n",
    "print(even_squares)"
   ]
  },
  {
   "cell_type": "markdown",
   "id": "a2f560f7",
   "metadata": {},
   "source": [
    "Diccionarios"
   ]
  },
  {
   "cell_type": "code",
   "execution_count": 20,
   "id": "6eee09fc",
   "metadata": {},
   "outputs": [
    {
     "name": "stdout",
     "output_type": "stream",
     "text": [
      "arena\n",
      "True\n"
     ]
    }
   ],
   "source": [
    "d = {'gato':'arena', 'perro':'parque'} #key : valor\n",
    "print(d['gato']) # imprimir de d imprimir el valor de llave gato\n",
    "print ('gato' in d) # imprimir si gato esta dentro de d\n"
   ]
  },
  {
   "cell_type": "code",
   "execution_count": 21,
   "id": "74dc760a",
   "metadata": {},
   "outputs": [
    {
     "name": "stdout",
     "output_type": "stream",
     "text": [
      "agua\n"
     ]
    }
   ],
   "source": [
    "d['pez'] = 'agua' # agregar key y valor a diccionario\n",
    "print(d['pez'])"
   ]
  },
  {
   "cell_type": "code",
   "execution_count": 22,
   "id": "fe6edf7e",
   "metadata": {},
   "outputs": [
    {
     "ename": "KeyError",
     "evalue": "'chango'",
     "output_type": "error",
     "traceback": [
      "\u001b[0;31m---------------------------------------------------------------------------\u001b[0m",
      "\u001b[0;31mKeyError\u001b[0m                                  Traceback (most recent call last)",
      "\u001b[0;32m/var/folders/tc/wh31bclj4b33blvqrvps19t00000gn/T/ipykernel_58842/1045332520.py\u001b[0m in \u001b[0;36m<module>\u001b[0;34m\u001b[0m\n\u001b[0;32m----> 1\u001b[0;31m \u001b[0mprint\u001b[0m\u001b[0;34m(\u001b[0m\u001b[0md\u001b[0m\u001b[0;34m[\u001b[0m\u001b[0;34m'chango'\u001b[0m\u001b[0;34m]\u001b[0m\u001b[0;34m)\u001b[0m \u001b[0;31m# error\u001b[0m\u001b[0;34m\u001b[0m\u001b[0;34m\u001b[0m\u001b[0m\n\u001b[0m",
      "\u001b[0;31mKeyError\u001b[0m: 'chango'"
     ]
    }
   ],
   "source": [
    "print(d['chango']) # error"
   ]
  },
  {
   "cell_type": "code",
   "execution_count": 23,
   "id": "07a120d4",
   "metadata": {},
   "outputs": [
    {
     "name": "stdout",
     "output_type": "stream",
     "text": [
      "N/A\n",
      "agua\n"
     ]
    }
   ],
   "source": [
    "print(d.get('chango', 'N/A')) # Imprime el valor o decir si no existe\n",
    "print(d.get('pez', 'N/A'))"
   ]
  },
  {
   "cell_type": "code",
   "execution_count": 24,
   "id": "5a46f3ab",
   "metadata": {},
   "outputs": [
    {
     "name": "stdout",
     "output_type": "stream",
     "text": [
      "N/A\n"
     ]
    }
   ],
   "source": [
    "del d['pez'] # Borrar key pez y su valor\n",
    "print(d.get('pez', 'N/A'))"
   ]
  },
  {
   "cell_type": "code",
   "execution_count": 26,
   "id": "7938cf73",
   "metadata": {},
   "outputs": [
    {
     "name": "stdout",
     "output_type": "stream",
     "text": [
      "Un humano tiene 2 patas\n",
      "Un gato tiene 4 patas\n",
      "Un aracnido tiene 8 patas\n"
     ]
    }
   ],
   "source": [
    "d = {'humano':2, 'gato':4, 'aracnido':8}\n",
    "for animal, patas in d.items(): # accesa a lo que hay dentro de diccionario KEY:VALOR\n",
    "    print('Un {} tiene {} patas'.format(animal, patas))"
   ]
  },
  {
   "cell_type": "markdown",
   "id": "466b0f5d",
   "metadata": {},
   "source": [
    "Dictionary comprehensions"
   ]
  },
  {
   "cell_type": "code",
   "execution_count": 27,
   "id": "b753375b",
   "metadata": {},
   "outputs": [
    {
     "name": "stdout",
     "output_type": "stream",
     "text": [
      "{0: 0, 2: 4, 4: 16}\n"
     ]
    }
   ],
   "source": [
    "nums = [0, 1, 2, 3, 4]\n",
    "pares_a_cuadrados = {x:x**2 for x in nums if x % 2 == 0} # si el elemento de la lista nums\n",
    "# son cuadrados, entonces se agrega al diccionario y su key es el elemento original\n",
    "print(pares_a_cuadrados)"
   ]
  },
  {
   "cell_type": "markdown",
   "id": "9daf010d",
   "metadata": {},
   "source": [
    "SETS\n",
    "No puede tener elementos repetidos\n",
    "No tienen indices\n",
    "No tienen orden"
   ]
  },
  {
   "cell_type": "code",
   "execution_count": 30,
   "id": "f79ab2df",
   "metadata": {},
   "outputs": [
    {
     "name": "stdout",
     "output_type": "stream",
     "text": [
      "True\n",
      "False\n"
     ]
    }
   ],
   "source": [
    "animales = {'gato', 'perro'} # set diccionario de solo llaves\n",
    "print('gato' in animales)\n",
    "print('pez' in animales)"
   ]
  },
  {
   "cell_type": "code",
   "execution_count": 31,
   "id": "f031eb28",
   "metadata": {},
   "outputs": [
    {
     "name": "stdout",
     "output_type": "stream",
     "text": [
      "True\n",
      "3\n"
     ]
    }
   ],
   "source": [
    "animales.add('pez')\n",
    "print('pez' in animales)\n",
    "print(len(animales))"
   ]
  },
  {
   "cell_type": "code",
   "execution_count": 32,
   "id": "e4ec5c06",
   "metadata": {},
   "outputs": [
    {
     "name": "stdout",
     "output_type": "stream",
     "text": [
      "3\n",
      "2\n"
     ]
    }
   ],
   "source": [
    "animales.add('gato') # se agrega gato otra vez, entonces la longitud sigue siendo 3\n",
    "print(len(animales))\n",
    "animales.remove('gato')\n",
    "print(len(animales))"
   ]
  },
  {
   "cell_type": "markdown",
   "id": "c0c2a6c4",
   "metadata": {},
   "source": [
    "Loops"
   ]
  },
  {
   "cell_type": "code",
   "execution_count": 33,
   "id": "0730f3f9",
   "metadata": {},
   "outputs": [
    {
     "name": "stdout",
     "output_type": "stream",
     "text": [
      "#1: perro\n",
      "#2: pez\n",
      "#3: gato\n"
     ]
    }
   ],
   "source": [
    "animales = {'gato', 'perro', 'pez'}\n",
    "for idx, animal in enumerate(animales):\n",
    "    print('#{}: {}'.format(idx + 1, animal))\n",
    "    # se imprimen en orden distinto, porque no tienen orden"
   ]
  },
  {
   "cell_type": "markdown",
   "id": "cfdf5170",
   "metadata": {},
   "source": [
    "Set comprehensions"
   ]
  },
  {
   "cell_type": "code",
   "execution_count": 34,
   "id": "c6ce1544",
   "metadata": {},
   "outputs": [
    {
     "name": "stdout",
     "output_type": "stream",
     "text": [
      "{0, 1, 2, 3, 4, 5}\n"
     ]
    }
   ],
   "source": [
    "from math import sqrt\n",
    "print({int(sqrt(x)) for x in range(30)}) # la x es lo que esta dentro del rango 0 a 30"
   ]
  },
  {
   "cell_type": "markdown",
   "id": "8da6a120",
   "metadata": {},
   "source": [
    "Tuplas\n",
    "Conjuntos de datos que no pueden ser modificados"
   ]
  },
  {
   "cell_type": "code",
   "execution_count": 35,
   "id": "007499c8",
   "metadata": {},
   "outputs": [
    {
     "name": "stdout",
     "output_type": "stream",
     "text": [
      "<class 'tuple'>\n",
      "{(0, 1): 0, (1, 2): 1, (2, 3): 2, (3, 4): 3, (4, 5): 4, (5, 6): 5, (6, 7): 6, (7, 8): 7, (8, 9): 8, (9, 10): 9}\n",
      "5\n",
      "1\n"
     ]
    }
   ],
   "source": [
    "d = {(x, x + 1):x for x in range(10)} # diccionario con las llaves como tuplas\n",
    "t = (5, 6)\n",
    "print(type(t))\n",
    "print(d)\n",
    "print(d[t])\n",
    "print(d[(1, 2)])"
   ]
  },
  {
   "cell_type": "code",
   "execution_count": 36,
   "id": "42e2f36f",
   "metadata": {},
   "outputs": [
    {
     "ename": "TypeError",
     "evalue": "'tuple' object does not support item assignment",
     "output_type": "error",
     "traceback": [
      "\u001b[0;31m---------------------------------------------------------------------------\u001b[0m",
      "\u001b[0;31mTypeError\u001b[0m                                 Traceback (most recent call last)",
      "\u001b[0;32m/var/folders/tc/wh31bclj4b33blvqrvps19t00000gn/T/ipykernel_58842/2300799188.py\u001b[0m in \u001b[0;36m<module>\u001b[0;34m\u001b[0m\n\u001b[0;32m----> 1\u001b[0;31m \u001b[0mt\u001b[0m\u001b[0;34m[\u001b[0m\u001b[0;36m0\u001b[0m\u001b[0;34m]\u001b[0m \u001b[0;34m=\u001b[0m \u001b[0;36m1\u001b[0m \u001b[0;31m# no se pueden modificar las tuplas\u001b[0m\u001b[0;34m\u001b[0m\u001b[0;34m\u001b[0m\u001b[0m\n\u001b[0m",
      "\u001b[0;31mTypeError\u001b[0m: 'tuple' object does not support item assignment"
     ]
    }
   ],
   "source": [
    "t[0] = 1 # no se pueden modificar las tuplas"
   ]
  },
  {
   "cell_type": "markdown",
   "id": "420f963b",
   "metadata": {},
   "source": [
    "Funciones"
   ]
  },
  {
   "cell_type": "code",
   "execution_count": 38,
   "id": "271d83f9",
   "metadata": {},
   "outputs": [
    {
     "name": "stdout",
     "output_type": "stream",
     "text": [
      "negative\n",
      "zero\n",
      "positive\n"
     ]
    }
   ],
   "source": [
    "def sign(x):  # imprime el resultado dependiendo del argumento que se le pase\n",
    "    if x > 0:\n",
    "        return 'positive'\n",
    "    elif x<0:\n",
    "        return 'negative'\n",
    "    else:\n",
    "        return 'zero'\n",
    "    \n",
    "    \n",
    "for x in [-1, 0, 1]:\n",
    "    print(sign(x))  # aqui se llama a la funcion"
   ]
  },
  {
   "cell_type": "code",
   "execution_count": 41,
   "id": "3de6bdb4",
   "metadata": {},
   "outputs": [
    {
     "name": "stdout",
     "output_type": "stream",
     "text": [
      "Hello, Bob!\n",
      "HELLO, FRED!!!!!\n"
     ]
    }
   ],
   "source": [
    "def hello(name, loud = False):  # recibe 2 argumentos, uno es booleano, por default FALSO\n",
    "    if loud: # Si es True, se escribe el nombre en mayuscula\n",
    "        print('HELLO, {}!!!!!'.format(name.upper())) # va a poner el nombre en mayuscula\n",
    "    else: # si se queda en falso, se imprime como se manda el nombre\n",
    "        print('Hello, {}!'.format(name))\n",
    "        \n",
    "hello('Bob')\n",
    "hello('Fred', loud = True)"
   ]
  },
  {
   "cell_type": "markdown",
   "id": "732ab633",
   "metadata": {},
   "source": [
    "NUMPY"
   ]
  },
  {
   "cell_type": "code",
   "execution_count": 1,
   "id": "6122aee7",
   "metadata": {},
   "outputs": [],
   "source": [
    "import numpy as np"
   ]
  },
  {
   "cell_type": "code",
   "execution_count": 2,
   "id": "a110b8a3",
   "metadata": {},
   "outputs": [
    {
     "name": "stdout",
     "output_type": "stream",
     "text": [
      "<class 'numpy.ndarray'> 1 2 3\n",
      "[5 2 3]\n"
     ]
    }
   ],
   "source": [
    "a = np.array([1, 2, 3]) # definir un arreglo, usando una lista\n",
    "print(type(a), a[0], a[1], a[2])\n",
    "a[0] = 5\n",
    "print(a)"
   ]
  },
  {
   "cell_type": "code",
   "execution_count": 3,
   "id": "b6bc79a6",
   "metadata": {},
   "outputs": [
    {
     "name": "stdout",
     "output_type": "stream",
     "text": [
      "[[1 2 3]\n",
      " [4 5 6]]\n"
     ]
    }
   ],
   "source": [
    "b = np.array([[1, 2, 3], [4, 5, 6]]) # arreglo bidimensional, listas adentro de lista\n",
    "print(b)"
   ]
  },
  {
   "cell_type": "code",
   "execution_count": 4,
   "id": "11e7fd95",
   "metadata": {},
   "outputs": [
    {
     "name": "stdout",
     "output_type": "stream",
     "text": [
      "(2, 3)\n",
      "1 2 4\n"
     ]
    }
   ],
   "source": [
    "print(b.shape) # matriz de 2 x 3\n",
    "print(b[0, 0], b[0, 1], b[1,0])  # imprimir coordenadas en b"
   ]
  },
  {
   "cell_type": "code",
   "execution_count": 7,
   "id": "9427a146",
   "metadata": {},
   "outputs": [
    {
     "name": "stdout",
     "output_type": "stream",
     "text": [
      "[[0. 0.]\n",
      " [0. 0.]]\n"
     ]
    }
   ],
   "source": [
    "a = np.zeros((2, 2))\n",
    "print(a)"
   ]
  },
  {
   "cell_type": "code",
   "execution_count": 9,
   "id": "ef3da1c1",
   "metadata": {},
   "outputs": [
    {
     "name": "stdout",
     "output_type": "stream",
     "text": [
      "[[1. 1.]\n",
      " [1. 1.]]\n"
     ]
    }
   ],
   "source": [
    "b =np.ones((2, 2))\n",
    "print(b)"
   ]
  },
  {
   "cell_type": "code",
   "execution_count": 12,
   "id": "2e1971f8",
   "metadata": {},
   "outputs": [
    {
     "name": "stdout",
     "output_type": "stream",
     "text": [
      "[[7 7]]\n"
     ]
    }
   ],
   "source": [
    "c = np.full((1, 2), 7) # llenar matriz de 7\n",
    "print(c)\n"
   ]
  },
  {
   "cell_type": "code",
   "execution_count": null,
   "id": "3fb8d8ee",
   "metadata": {},
   "outputs": [],
   "source": [
    "d = np.eye(2) # matriz identidad de 2 x2\n",
    "print(2)"
   ]
  },
  {
   "cell_type": "code",
   "execution_count": 14,
   "id": "78583a01",
   "metadata": {},
   "outputs": [
    {
     "name": "stdout",
     "output_type": "stream",
     "text": [
      "[[0.93000695 0.4187556 ]\n",
      " [0.3174789  0.60843965]]\n"
     ]
    }
   ],
   "source": [
    "e = np.random.random((2,2)) # matriz valores random\n",
    "print(e)"
   ]
  },
  {
   "cell_type": "code",
   "execution_count": 18,
   "id": "336e8ff2",
   "metadata": {},
   "outputs": [
    {
     "name": "stdout",
     "output_type": "stream",
     "text": [
      "[[ 1  2  3  4]\n",
      " [ 5  6  7  8]\n",
      " [ 9 10 11 12]]\n",
      "[[2 3]\n",
      " [6 7]]\n"
     ]
    }
   ],
   "source": [
    "import numpy as np\n",
    "\n",
    "\n",
    "a = np.array([[1,2,3,4], [5, 6, 7, 8], [9,10,11,12]]) #crea arreglo\n",
    "b = a[:2, 1:3] # todo hasta la linea 2 excluyente, y de las columnas 1 y 2\n",
    "print(a)\n",
    "print(b)"
   ]
  },
  {
   "cell_type": "raw",
   "id": "65129e3c",
   "metadata": {},
   "source": [
    "Rebanada de arreglo es una vista de arreglo, si se modifica, modifico arreglo original"
   ]
  },
  {
   "cell_type": "code",
   "execution_count": 17,
   "id": "0f6e5b38",
   "metadata": {},
   "outputs": [
    {
     "name": "stdout",
     "output_type": "stream",
     "text": [
      "2\n",
      "77\n"
     ]
    }
   ],
   "source": [
    "print(a[0,1])\n",
    "b[0,0] = 77 # cambiando arreglo original\n",
    "print(a[0,1])"
   ]
  },
  {
   "cell_type": "code",
   "execution_count": 22,
   "id": "e327a13a",
   "metadata": {},
   "outputs": [
    {
     "name": "stdout",
     "output_type": "stream",
     "text": [
      "[[2 3]\n",
      " [6 7]]\n",
      "[[ 1  2  3  4]\n",
      " [ 5  6  7  8]\n",
      " [ 9 10 11 12]]\n",
      "[[77  3]\n",
      " [ 6  7]]\n"
     ]
    }
   ],
   "source": [
    "# Copia de arreglo para que no se referencia\n",
    "import numpy as np\n",
    "b = np.array(a[:2, 1:3]) # declarar un nuevo array\n",
    "print(b)\n",
    "b[0,0] = 77\n",
    "print(a)  # podemos ver que no se cambia el a original\n",
    "print(b)"
   ]
  },
  {
   "cell_type": "code",
   "execution_count": 25,
   "id": "c7a32e0b",
   "metadata": {},
   "outputs": [
    {
     "name": "stdout",
     "output_type": "stream",
     "text": [
      "[[ 6.  8.]\n",
      " [10. 12.]]\n",
      "[[ 6.  8.]\n",
      " [10. 12.]]\n"
     ]
    }
   ],
   "source": [
    "x = np.array([[1,2],[3,4]], dtype = np.float64)\n",
    "y = np.array([[5, 6], [7,8]], dtype = np.float64)\n",
    "print(x + y)\n",
    "print(np.add(x, y)) # sumar 2 arrays"
   ]
  },
  {
   "cell_type": "code",
   "execution_count": 30,
   "id": "f47107b2",
   "metadata": {},
   "outputs": [
    {
     "name": "stdout",
     "output_type": "stream",
     "text": [
      "[[-4. -4.]\n",
      " [-4. -4.]]\n",
      "[[-4. -4.]\n",
      " [-4. -4.]]\n"
     ]
    }
   ],
   "source": [
    "print(x - y)\n",
    "print(np.subtract(x, y)) # restar 2 arrays"
   ]
  },
  {
   "cell_type": "code",
   "execution_count": 28,
   "id": "119e7439",
   "metadata": {},
   "outputs": [
    {
     "name": "stdout",
     "output_type": "stream",
     "text": [
      "[[ 5. 12.]\n",
      " [21. 32.]]\n",
      "[[ 5. 12.]\n",
      " [21. 32.]]\n"
     ]
    }
   ],
   "source": [
    "print(x * y)\n",
    "print(np.multiply(x, y)) # multiplicar 2 array"
   ]
  },
  {
   "cell_type": "code",
   "execution_count": 26,
   "id": "e4fbe371",
   "metadata": {},
   "outputs": [
    {
     "name": "stdout",
     "output_type": "stream",
     "text": [
      "[[0.2        0.33333333]\n",
      " [0.42857143 0.5       ]]\n",
      "[[0.2        0.33333333]\n",
      " [0.42857143 0.5       ]]\n"
     ]
    }
   ],
   "source": [
    "print(x / y)\n",
    "print(np.divide(x, y))  # dividir 2 arrays"
   ]
  },
  {
   "cell_type": "code",
   "execution_count": 31,
   "id": "e699218f",
   "metadata": {},
   "outputs": [
    {
     "name": "stdout",
     "output_type": "stream",
     "text": [
      "[[1.         1.41421356]\n",
      " [1.73205081 2.        ]]\n"
     ]
    }
   ],
   "source": [
    "print(np.sqrt(x)) # raiz de un array"
   ]
  },
  {
   "cell_type": "code",
   "execution_count": 33,
   "id": "9a91adf2",
   "metadata": {},
   "outputs": [
    {
     "name": "stdout",
     "output_type": "stream",
     "text": [
      "219\n",
      "219\n"
     ]
    }
   ],
   "source": [
    "x = np.array([[1,2],[3,4]])\n",
    "y = np.array([[5, 6], [7,8]])\n",
    "\n",
    "v = np.array([9,10])\n",
    "w = np.array([11,12])\n",
    "\n",
    "#Producto interno de vectores; ambos producen 219\n",
    "print(v.dot(w))\n",
    "print(np.dot(v,w)) #producto punto"
   ]
  },
  {
   "cell_type": "code",
   "execution_count": 38,
   "id": "b96009a7",
   "metadata": {},
   "outputs": [
    {
     "name": "stdout",
     "output_type": "stream",
     "text": [
      "[39 58]\n",
      "[39 58]\n",
      "[39 58]\n"
     ]
    }
   ],
   "source": [
    "print(v.dot(x))\n",
    "print(np.dot(v,x))\n",
    "print(v @ x)"
   ]
  },
  {
   "cell_type": "code",
   "execution_count": 36,
   "id": "bcdcae86",
   "metadata": {},
   "outputs": [
    {
     "name": "stdout",
     "output_type": "stream",
     "text": [
      "[[19 22]\n",
      " [43 50]]\n"
     ]
    }
   ],
   "source": [
    "print(x @ y) # multiplicacion de matrices"
   ]
  },
  {
   "cell_type": "code",
   "execution_count": 37,
   "id": "20fa9f3b",
   "metadata": {},
   "outputs": [
    {
     "name": "stdout",
     "output_type": "stream",
     "text": [
      "10\n",
      "[4 6]\n",
      "[3 7]\n"
     ]
    }
   ],
   "source": [
    "x = np.array([[1,2],[3,4]])\n",
    "print(np.sum(x)) # suma de los columnas\n",
    "print(np.sum(x, axis = 0)) # suma de cada columna\n",
    "print(np.sum(x, axis = 1)) # suma de cada linea"
   ]
  },
  {
   "cell_type": "code",
   "execution_count": 40,
   "id": "c541b233",
   "metadata": {},
   "outputs": [
    {
     "name": "stdout",
     "output_type": "stream",
     "text": [
      "[[1 2]\n",
      " [3 4]]\n",
      "transponse\n",
      " [[1 3]\n",
      " [2 4]]\n"
     ]
    }
   ],
   "source": [
    "print(x)\n",
    "print(\"transponse\\n\", x.T) # transponer matriz"
   ]
  },
  {
   "cell_type": "code",
   "execution_count": 43,
   "id": "a3196eb0",
   "metadata": {},
   "outputs": [
    {
     "name": "stdout",
     "output_type": "stream",
     "text": [
      "[1 2 3]\n",
      "transpose\n",
      " [1 2 3]\n"
     ]
    }
   ],
   "source": [
    "v = np.array([[1,2,3]]) # importante poner los dos corchetes\n",
    "print(v)\n",
    "print(\"transpose\\n\", v.T)"
   ]
  },
  {
   "cell_type": "code",
   "execution_count": null,
   "id": "61c613bc",
   "metadata": {},
   "outputs": [],
   "source": [
    "MATHPLOTLIB\n",
    "para graficar"
   ]
  },
  {
   "cell_type": "code",
   "execution_count": 9,
   "id": "769cae17",
   "metadata": {},
   "outputs": [],
   "source": [
    "import matplotlib.pyplot as plt  #importar solo el modulo pyplot que grafica\n",
    "import numpy as np"
   ]
  },
  {
   "cell_type": "markdown",
   "id": "2b00c4eb",
   "metadata": {},
   "source": [
    "Siguiente linea para que salgan las graficas en jupyter notebook"
   ]
  },
  {
   "cell_type": "code",
   "execution_count": 13,
   "id": "8372772c",
   "metadata": {},
   "outputs": [],
   "source": [
    "%matplotlib inline"
   ]
  },
  {
   "cell_type": "code",
   "execution_count": 4,
   "id": "f1fc291c",
   "metadata": {},
   "outputs": [
    {
     "name": "stdout",
     "output_type": "stream",
     "text": [
      "bio.txt\n",
      "metodos_python1.ipynb\n"
     ]
    }
   ],
   "source": [
    "%%bash\n",
    "ls  # magia de bash para correr lineas en jupyter notebook"
   ]
  },
  {
   "cell_type": "code",
   "execution_count": 14,
   "id": "7da2be99",
   "metadata": {},
   "outputs": [
    {
     "data": {
      "text/plain": [
       "[<matplotlib.lines.Line2D at 0x7fb99802f9d0>]"
      ]
     },
     "execution_count": 14,
     "metadata": {},
     "output_type": "execute_result"
    },
    {
     "data": {
      "image/png": "[encoded data removed]",
      "text/plain": [
       "<Figure size 432x288 with 1 Axes>"
      ]
     },
     "metadata": {
      "needs_background": "light"
     },
     "output_type": "display_data"
    }
   ],
   "source": [
    "x = np.arange(0, 3 * np.pi, 0.1) # array de 0 hasta 3 * pi, con separacion de 0.1 para eje x\n",
    "y = np.sin(x)\n",
    "\n",
    "plt.plot(x,y)"
   ]
  },
  {
   "cell_type": "code",
   "execution_count": 15,
   "id": "ea206b49",
   "metadata": {},
   "outputs": [
    {
     "data": {
      "text/plain": [
       "<matplotlib.legend.Legend at 0x7fb9b8094ca0>"
      ]
     },
     "execution_count": 15,
     "metadata": {},
     "output_type": "execute_result"
    },
    {
     "data": {
      "image/png": "[encoded data removed]",
      "text/plain": [
       "<Figure size 432x288 with 1 Axes>"
      ]
     },
     "metadata": {
      "needs_background": "light"
     },
     "output_type": "display_data"
    }
   ],
   "source": [
    "y_sin = np.sin(x)\n",
    "y_cos = np.cos(x)\n",
    "plt.plot(x, y_sin) # juntar 2 graficas\n",
    "plt.plot(x, y_cos)\n",
    "plt.xlabel('x axis label')\n",
    "plt.title('Sine and Cosine')\n",
    "plt.legend(['Sine', 'Cosine']) # asignar nombres a las graficas"
   ]
  },
  {
   "cell_type": "code",
   "execution_count": 23,
   "id": "85667e45",
   "metadata": {},
   "outputs": [
    {
     "data": {
      "text/plain": [
       "Text(0.5, 1.0, 'Cosine')"
      ]
     },
     "execution_count": 23,
     "metadata": {},
     "output_type": "execute_result"
    },
    {
     "data": {
      "image/png": "[encoded data removed]",
      "text/plain": [
       "<Figure size 432x288 with 2 Axes>"
      ]
     },
     "metadata": {
      "needs_background": "light"
     },
     "output_type": "display_data"
    }
   ],
   "source": [
    "x = np.arange(0, 3 * np.pi, 0.1)\n",
    "y_sin = np.sin(x)\n",
    "y_cos = np.cos(x)\n",
    "\n",
    "plt.subplot(2, 1, 1) # subplot 1, (numero de subplots, no.columnas, linea1) grafica esto\n",
    "plt.plot(x, y_sin)\n",
    "plt.title('Sine')\n",
    "\n",
    "plt.subplot(2,1,2) # subplot2, en la linea 2\n",
    "plt.plot(x, y_cos)\n",
    "plt.title('Cosine')\n",
    "\n",
    "# plt.savefig para guardar la figura"
   ]
  },
  {
   "cell_type": "markdown",
   "id": "00f55189",
   "metadata": {},
   "source": [
    "PANDAS"
   ]
  },
  {
   "cell_type": "code",
   "execution_count": 1,
   "id": "a53a22db",
   "metadata": {},
   "outputs": [],
   "source": [
    "import pandas as pd"
   ]
  },
  {
   "cell_type": "code",
   "execution_count": 27,
   "id": "35feba19",
   "metadata": {},
   "outputs": [],
   "source": [
    "# Dataframe\n",
    "df = pd.DataFrame({'Nombres': ['Sofia', 'Marlon', 'Samuel', 'Bruno', 'Javier', 'Diego', 'Xochitl'], \\\n",
    "     'Horoscopos': ['Geminis', 'Cancer', 'Tauro', 'Libra', 'Capricornio', 'Sagitario', \\\n",
    "                   'Cancer'], \\\n",
    "     'Edades': ['19', '20', '19', '19', '21', '19', '20']}) #llaves - columnas, valores -rows\n",
    "# un valor se puede poner como np.nan y es nulo"
   ]
  },
  {
   "cell_type": "code",
   "execution_count": 28,
   "id": "fe2bbb88",
   "metadata": {},
   "outputs": [
    {
     "data": {
      "text/plain": [
       "pandas.core.frame.DataFrame"
      ]
     },
     "execution_count": 28,
     "metadata": {},
     "output_type": "execute_result"
    }
   ],
   "source": [
    "type(df)"
   ]
  },
  {
   "cell_type": "code",
   "execution_count": 29,
   "id": "3a298780",
   "metadata": {},
   "outputs": [
    {
     "data": {
      "text/html": [
       "<div>\n",
       "<style scoped>\n",
       "    .dataframe tbody tr th:only-of-type {\n",
       "        vertical-align: middle;\n",
       "    }\n",
       "\n",
       "    .dataframe tbody tr th {\n",
       "        vertical-align: top;\n",
       "    }\n",
       "\n",
       "    .dataframe thead th {\n",
       "        text-align: right;\n",
       "    }\n",
       "</style>\n",
       "<table border=\"1\" class=\"dataframe\">\n",
       "  <thead>\n",
       "    <tr style=\"text-align: right;\">\n",
       "      <th></th>\n",
       "      <th>Nombres</th>\n",
       "      <th>Horoscopos</th>\n",
       "      <th>Edades</th>\n",
       "    </tr>\n",
       "  </thead>\n",
       "  <tbody>\n",
       "    <tr>\n",
       "      <th>0</th>\n",
       "      <td>Sofia</td>\n",
       "      <td>Geminis</td>\n",
       "      <td>19</td>\n",
       "    </tr>\n",
       "    <tr>\n",
       "      <th>1</th>\n",
       "      <td>Marlon</td>\n",
       "      <td>Cancer</td>\n",
       "      <td>20</td>\n",
       "    </tr>\n",
       "    <tr>\n",
       "      <th>2</th>\n",
       "      <td>Samuel</td>\n",
       "      <td>Tauro</td>\n",
       "      <td>19</td>\n",
       "    </tr>\n",
       "    <tr>\n",
       "      <th>3</th>\n",
       "      <td>Bruno</td>\n",
       "      <td>Libra</td>\n",
       "      <td>19</td>\n",
       "    </tr>\n",
       "    <tr>\n",
       "      <th>4</th>\n",
       "      <td>Javier</td>\n",
       "      <td>Capricornio</td>\n",
       "      <td>21</td>\n",
       "    </tr>\n",
       "    <tr>\n",
       "      <th>5</th>\n",
       "      <td>Diego</td>\n",
       "      <td>Sagitario</td>\n",
       "      <td>19</td>\n",
       "    </tr>\n",
       "    <tr>\n",
       "      <th>6</th>\n",
       "      <td>Xochitl</td>\n",
       "      <td>Cancer</td>\n",
       "      <td>20</td>\n",
       "    </tr>\n",
       "  </tbody>\n",
       "</table>\n",
       "</div>"
      ],
      "text/plain": [
       "   Nombres   Horoscopos Edades\n",
       "0    Sofia      Geminis     19\n",
       "1   Marlon       Cancer     20\n",
       "2   Samuel        Tauro     19\n",
       "3    Bruno        Libra     19\n",
       "4   Javier  Capricornio     21\n",
       "5    Diego    Sagitario     19\n",
       "6  Xochitl       Cancer     20"
      ]
     },
     "execution_count": 29,
     "metadata": {},
     "output_type": "execute_result"
    }
   ],
   "source": [
    "df"
   ]
  },
  {
   "cell_type": "code",
   "execution_count": 18,
   "id": "35745c16",
   "metadata": {},
   "outputs": [],
   "source": [
    "df = df.set_index('Nombres') # poner los nombres como los indices"
   ]
  },
  {
   "cell_type": "code",
   "execution_count": 9,
   "id": "71def3b8",
   "metadata": {},
   "outputs": [
    {
     "data": {
      "text/html": [
       "<div>\n",
       "<style scoped>\n",
       "    .dataframe tbody tr th:only-of-type {\n",
       "        vertical-align: middle;\n",
       "    }\n",
       "\n",
       "    .dataframe tbody tr th {\n",
       "        vertical-align: top;\n",
       "    }\n",
       "\n",
       "    .dataframe thead th {\n",
       "        text-align: right;\n",
       "    }\n",
       "</style>\n",
       "<table border=\"1\" class=\"dataframe\">\n",
       "  <thead>\n",
       "    <tr style=\"text-align: right;\">\n",
       "      <th></th>\n",
       "      <th>Horoscopos</th>\n",
       "      <th>Edades</th>\n",
       "    </tr>\n",
       "    <tr>\n",
       "      <th>Nombres</th>\n",
       "      <th></th>\n",
       "      <th></th>\n",
       "    </tr>\n",
       "  </thead>\n",
       "  <tbody>\n",
       "    <tr>\n",
       "      <th>Sofia</th>\n",
       "      <td>Geminis</td>\n",
       "      <td>19</td>\n",
       "    </tr>\n",
       "    <tr>\n",
       "      <th>Marlon</th>\n",
       "      <td>Cancer</td>\n",
       "      <td>20</td>\n",
       "    </tr>\n",
       "    <tr>\n",
       "      <th>Samuel</th>\n",
       "      <td>Tauro</td>\n",
       "      <td>19</td>\n",
       "    </tr>\n",
       "    <tr>\n",
       "      <th>Bruno</th>\n",
       "      <td>Libra</td>\n",
       "      <td>19</td>\n",
       "    </tr>\n",
       "    <tr>\n",
       "      <th>Javier</th>\n",
       "      <td>Capricornio</td>\n",
       "      <td>21</td>\n",
       "    </tr>\n",
       "    <tr>\n",
       "      <th>Diego</th>\n",
       "      <td>Sagitario</td>\n",
       "      <td>19</td>\n",
       "    </tr>\n",
       "    <tr>\n",
       "      <th>Xochitl</th>\n",
       "      <td>Cancer</td>\n",
       "      <td>20</td>\n",
       "    </tr>\n",
       "  </tbody>\n",
       "</table>\n",
       "</div>"
      ],
      "text/plain": [
       "          Horoscopos Edades\n",
       "Nombres                    \n",
       "Sofia        Geminis     19\n",
       "Marlon        Cancer     20\n",
       "Samuel         Tauro     19\n",
       "Bruno          Libra     19\n",
       "Javier   Capricornio     21\n",
       "Diego      Sagitario     19\n",
       "Xochitl       Cancer     20"
      ]
     },
     "execution_count": 9,
     "metadata": {},
     "output_type": "execute_result"
    }
   ],
   "source": [
    "df"
   ]
  },
  {
   "cell_type": "code",
   "execution_count": 11,
   "id": "28b69664",
   "metadata": {},
   "outputs": [
    {
     "name": "stdout",
     "output_type": "stream",
     "text": [
      "<class 'pandas.core.frame.DataFrame'>\n",
      "Index: 7 entries, Sofia to Xochitl\n",
      "Data columns (total 2 columns):\n",
      " #   Column      Non-Null Count  Dtype \n",
      "---  ------      --------------  ----- \n",
      " 0   Horoscopos  7 non-null      object\n",
      " 1   Edades      7 non-null      object\n",
      "dtypes: object(2)\n",
      "memory usage: 168.0+ bytes\n"
     ]
    }
   ],
   "source": [
    "df.info()"
   ]
  },
  {
   "cell_type": "code",
   "execution_count": 14,
   "id": "f8c12c9c",
   "metadata": {},
   "outputs": [],
   "source": [
    "type(df.Edades) # las edades son strings\n",
    "# lambda itera en cada valor de la columna (que es una serie) de Edades\n",
    "df['Edades'] = df.Edades.apply(lambda x: int(x))"
   ]
  },
  {
   "cell_type": "code",
   "execution_count": 15,
   "id": "6a354f7c",
   "metadata": {},
   "outputs": [
    {
     "data": {
      "text/plain": [
       "19.571428571428573"
      ]
     },
     "execution_count": 15,
     "metadata": {},
     "output_type": "execute_result"
    }
   ],
   "source": [
    "df.Edades.mean()"
   ]
  },
  {
   "cell_type": "code",
   "execution_count": 16,
   "id": "303cadcb",
   "metadata": {},
   "outputs": [
    {
     "data": {
      "text/html": [
       "<div>\n",
       "<style scoped>\n",
       "    .dataframe tbody tr th:only-of-type {\n",
       "        vertical-align: middle;\n",
       "    }\n",
       "\n",
       "    .dataframe tbody tr th {\n",
       "        vertical-align: top;\n",
       "    }\n",
       "\n",
       "    .dataframe thead th {\n",
       "        text-align: right;\n",
       "    }\n",
       "</style>\n",
       "<table border=\"1\" class=\"dataframe\">\n",
       "  <thead>\n",
       "    <tr style=\"text-align: right;\">\n",
       "      <th></th>\n",
       "      <th>Horoscopos</th>\n",
       "      <th>Edades</th>\n",
       "    </tr>\n",
       "    <tr>\n",
       "      <th>Nombres</th>\n",
       "      <th></th>\n",
       "      <th></th>\n",
       "    </tr>\n",
       "  </thead>\n",
       "  <tbody>\n",
       "    <tr>\n",
       "      <th>Sofia</th>\n",
       "      <td>Geminis</td>\n",
       "      <td>20</td>\n",
       "    </tr>\n",
       "    <tr>\n",
       "      <th>Marlon</th>\n",
       "      <td>Cancer</td>\n",
       "      <td>21</td>\n",
       "    </tr>\n",
       "    <tr>\n",
       "      <th>Samuel</th>\n",
       "      <td>Tauro</td>\n",
       "      <td>20</td>\n",
       "    </tr>\n",
       "    <tr>\n",
       "      <th>Bruno</th>\n",
       "      <td>Libra</td>\n",
       "      <td>20</td>\n",
       "    </tr>\n",
       "    <tr>\n",
       "      <th>Javier</th>\n",
       "      <td>Capricornio</td>\n",
       "      <td>22</td>\n",
       "    </tr>\n",
       "    <tr>\n",
       "      <th>Diego</th>\n",
       "      <td>Sagitario</td>\n",
       "      <td>20</td>\n",
       "    </tr>\n",
       "    <tr>\n",
       "      <th>Xochitl</th>\n",
       "      <td>Cancer</td>\n",
       "      <td>21</td>\n",
       "    </tr>\n",
       "  </tbody>\n",
       "</table>\n",
       "</div>"
      ],
      "text/plain": [
       "          Horoscopos  Edades\n",
       "Nombres                     \n",
       "Sofia        Geminis      20\n",
       "Marlon        Cancer      21\n",
       "Samuel         Tauro      20\n",
       "Bruno          Libra      20\n",
       "Javier   Capricornio      22\n",
       "Diego      Sagitario      20\n",
       "Xochitl       Cancer      21"
      ]
     },
     "execution_count": 16,
     "metadata": {},
     "output_type": "execute_result"
    }
   ],
   "source": [
    "# sumarle un anio a cada persona\n",
    "# si se puede df.Edades porque estas remplazando\n",
    "df.Edades = df.Edades.apply(lambda x: int(x+1))\n",
    "df"
   ]
  },
  {
   "cell_type": "code",
   "execution_count": 19,
   "id": "ee0e6374",
   "metadata": {},
   "outputs": [
    {
     "data": {
      "text/plain": [
       "<AxesSubplot:>"
      ]
     },
     "execution_count": 19,
     "metadata": {},
     "output_type": "execute_result"
    },
    {
     "data": {
      "image/png": "[encoded data removed]",
      "text/plain": [
       "<Figure size 432x288 with 1 Axes>"
      ]
     },
     "metadata": {
      "needs_background": "light"
     },
     "output_type": "display_data"
    }
   ],
   "source": [
    "df.Edades.hist() # panda grafica"
   ]
  },
  {
   "cell_type": "code",
   "execution_count": 20,
   "id": "63aad9f5",
   "metadata": {},
   "outputs": [
    {
     "data": {
      "text/html": [
       "<div>\n",
       "<style scoped>\n",
       "    .dataframe tbody tr th:only-of-type {\n",
       "        vertical-align: middle;\n",
       "    }\n",
       "\n",
       "    .dataframe tbody tr th {\n",
       "        vertical-align: top;\n",
       "    }\n",
       "\n",
       "    .dataframe thead th {\n",
       "        text-align: right;\n",
       "    }\n",
       "</style>\n",
       "<table border=\"1\" class=\"dataframe\">\n",
       "  <thead>\n",
       "    <tr style=\"text-align: right;\">\n",
       "      <th></th>\n",
       "      <th>Horoscopos</th>\n",
       "      <th>Edades</th>\n",
       "      <th>Animal_Fav</th>\n",
       "    </tr>\n",
       "    <tr>\n",
       "      <th>Nombres</th>\n",
       "      <th></th>\n",
       "      <th></th>\n",
       "      <th></th>\n",
       "    </tr>\n",
       "  </thead>\n",
       "  <tbody>\n",
       "    <tr>\n",
       "      <th>Sofia</th>\n",
       "      <td>Geminis</td>\n",
       "      <td>19</td>\n",
       "      <td>perro</td>\n",
       "    </tr>\n",
       "    <tr>\n",
       "      <th>Marlon</th>\n",
       "      <td>Cancer</td>\n",
       "      <td>20</td>\n",
       "      <td>gato</td>\n",
       "    </tr>\n",
       "    <tr>\n",
       "      <th>Samuel</th>\n",
       "      <td>Tauro</td>\n",
       "      <td>19</td>\n",
       "      <td>delfin</td>\n",
       "    </tr>\n",
       "    <tr>\n",
       "      <th>Bruno</th>\n",
       "      <td>Libra</td>\n",
       "      <td>19</td>\n",
       "      <td>perro</td>\n",
       "    </tr>\n",
       "    <tr>\n",
       "      <th>Javier</th>\n",
       "      <td>Capricornio</td>\n",
       "      <td>21</td>\n",
       "      <td>serpiente</td>\n",
       "    </tr>\n",
       "    <tr>\n",
       "      <th>Diego</th>\n",
       "      <td>Sagitario</td>\n",
       "      <td>19</td>\n",
       "      <td>axolotl</td>\n",
       "    </tr>\n",
       "    <tr>\n",
       "      <th>Xochitl</th>\n",
       "      <td>Cancer</td>\n",
       "      <td>20</td>\n",
       "      <td>pulpo</td>\n",
       "    </tr>\n",
       "  </tbody>\n",
       "</table>\n",
       "</div>"
      ],
      "text/plain": [
       "          Horoscopos Edades Animal_Fav\n",
       "Nombres                               \n",
       "Sofia        Geminis     19      perro\n",
       "Marlon        Cancer     20       gato\n",
       "Samuel         Tauro     19     delfin\n",
       "Bruno          Libra     19      perro\n",
       "Javier   Capricornio     21  serpiente\n",
       "Diego      Sagitario     19    axolotl\n",
       "Xochitl       Cancer     20      pulpo"
      ]
     },
     "execution_count": 20,
     "metadata": {},
     "output_type": "execute_result"
    }
   ],
   "source": [
    "df['Animal_Fav'] = ['perro', 'gato', 'delfin', 'perro', 'serpiente', 'axolotl', 'pulpo']\n",
    "df"
   ]
  },
  {
   "cell_type": "code",
   "execution_count": 21,
   "id": "c157bc6b",
   "metadata": {},
   "outputs": [
    {
     "data": {
      "text/html": [
       "<div>\n",
       "<style scoped>\n",
       "    .dataframe tbody tr th:only-of-type {\n",
       "        vertical-align: middle;\n",
       "    }\n",
       "\n",
       "    .dataframe tbody tr th {\n",
       "        vertical-align: top;\n",
       "    }\n",
       "\n",
       "    .dataframe thead th {\n",
       "        text-align: right;\n",
       "    }\n",
       "</style>\n",
       "<table border=\"1\" class=\"dataframe\">\n",
       "  <thead>\n",
       "    <tr style=\"text-align: right;\">\n",
       "      <th></th>\n",
       "      <th>Horoscopos</th>\n",
       "      <th>Edades</th>\n",
       "      <th>Animal_Fav</th>\n",
       "      <th>Animal Fav</th>\n",
       "    </tr>\n",
       "    <tr>\n",
       "      <th>Nombres</th>\n",
       "      <th></th>\n",
       "      <th></th>\n",
       "      <th></th>\n",
       "      <th></th>\n",
       "    </tr>\n",
       "  </thead>\n",
       "  <tbody>\n",
       "    <tr>\n",
       "      <th>Sofia</th>\n",
       "      <td>Geminis</td>\n",
       "      <td>19</td>\n",
       "      <td>perro</td>\n",
       "      <td>gato</td>\n",
       "    </tr>\n",
       "    <tr>\n",
       "      <th>Marlon</th>\n",
       "      <td>Cancer</td>\n",
       "      <td>20</td>\n",
       "      <td>gato</td>\n",
       "      <td>gato</td>\n",
       "    </tr>\n",
       "    <tr>\n",
       "      <th>Samuel</th>\n",
       "      <td>Tauro</td>\n",
       "      <td>19</td>\n",
       "      <td>delfin</td>\n",
       "      <td>gato</td>\n",
       "    </tr>\n",
       "    <tr>\n",
       "      <th>Bruno</th>\n",
       "      <td>Libra</td>\n",
       "      <td>19</td>\n",
       "      <td>perro</td>\n",
       "      <td>gato</td>\n",
       "    </tr>\n",
       "    <tr>\n",
       "      <th>Javier</th>\n",
       "      <td>Capricornio</td>\n",
       "      <td>21</td>\n",
       "      <td>serpiente</td>\n",
       "      <td>gato</td>\n",
       "    </tr>\n",
       "    <tr>\n",
       "      <th>Diego</th>\n",
       "      <td>Sagitario</td>\n",
       "      <td>19</td>\n",
       "      <td>axolotl</td>\n",
       "      <td>gato</td>\n",
       "    </tr>\n",
       "    <tr>\n",
       "      <th>Xochitl</th>\n",
       "      <td>Cancer</td>\n",
       "      <td>20</td>\n",
       "      <td>pulpo</td>\n",
       "      <td>gato</td>\n",
       "    </tr>\n",
       "  </tbody>\n",
       "</table>\n",
       "</div>"
      ],
      "text/plain": [
       "          Horoscopos Edades Animal_Fav Animal Fav\n",
       "Nombres                                          \n",
       "Sofia        Geminis     19      perro       gato\n",
       "Marlon        Cancer     20       gato       gato\n",
       "Samuel         Tauro     19     delfin       gato\n",
       "Bruno          Libra     19      perro       gato\n",
       "Javier   Capricornio     21  serpiente       gato\n",
       "Diego      Sagitario     19    axolotl       gato\n",
       "Xochitl       Cancer     20      pulpo       gato"
      ]
     },
     "execution_count": 21,
     "metadata": {},
     "output_type": "execute_result"
    }
   ],
   "source": [
    "df['Animal Fav'] = 'gato'\n",
    "df"
   ]
  },
  {
   "cell_type": "code",
   "execution_count": 22,
   "id": "dc616cfb",
   "metadata": {},
   "outputs": [
    {
     "data": {
      "text/html": [
       "<div>\n",
       "<style scoped>\n",
       "    .dataframe tbody tr th:only-of-type {\n",
       "        vertical-align: middle;\n",
       "    }\n",
       "\n",
       "    .dataframe tbody tr th {\n",
       "        vertical-align: top;\n",
       "    }\n",
       "\n",
       "    .dataframe thead th {\n",
       "        text-align: right;\n",
       "    }\n",
       "</style>\n",
       "<table border=\"1\" class=\"dataframe\">\n",
       "  <thead>\n",
       "    <tr style=\"text-align: right;\">\n",
       "      <th></th>\n",
       "      <th>Horoscopos</th>\n",
       "      <th>Edades</th>\n",
       "      <th>Animal_Fav</th>\n",
       "    </tr>\n",
       "    <tr>\n",
       "      <th>Nombres</th>\n",
       "      <th></th>\n",
       "      <th></th>\n",
       "      <th></th>\n",
       "    </tr>\n",
       "  </thead>\n",
       "  <tbody>\n",
       "    <tr>\n",
       "      <th>Sofia</th>\n",
       "      <td>Geminis</td>\n",
       "      <td>19</td>\n",
       "      <td>perro</td>\n",
       "    </tr>\n",
       "    <tr>\n",
       "      <th>Marlon</th>\n",
       "      <td>Cancer</td>\n",
       "      <td>20</td>\n",
       "      <td>gato</td>\n",
       "    </tr>\n",
       "    <tr>\n",
       "      <th>Samuel</th>\n",
       "      <td>Tauro</td>\n",
       "      <td>19</td>\n",
       "      <td>delfin</td>\n",
       "    </tr>\n",
       "    <tr>\n",
       "      <th>Bruno</th>\n",
       "      <td>Libra</td>\n",
       "      <td>19</td>\n",
       "      <td>perro</td>\n",
       "    </tr>\n",
       "    <tr>\n",
       "      <th>Javier</th>\n",
       "      <td>Capricornio</td>\n",
       "      <td>21</td>\n",
       "      <td>serpiente</td>\n",
       "    </tr>\n",
       "    <tr>\n",
       "      <th>Diego</th>\n",
       "      <td>Sagitario</td>\n",
       "      <td>19</td>\n",
       "      <td>axolotl</td>\n",
       "    </tr>\n",
       "    <tr>\n",
       "      <th>Xochitl</th>\n",
       "      <td>Cancer</td>\n",
       "      <td>20</td>\n",
       "      <td>pulpo</td>\n",
       "    </tr>\n",
       "  </tbody>\n",
       "</table>\n",
       "</div>"
      ],
      "text/plain": [
       "          Horoscopos Edades Animal_Fav\n",
       "Nombres                               \n",
       "Sofia        Geminis     19      perro\n",
       "Marlon        Cancer     20       gato\n",
       "Samuel         Tauro     19     delfin\n",
       "Bruno          Libra     19      perro\n",
       "Javier   Capricornio     21  serpiente\n",
       "Diego      Sagitario     19    axolotl\n",
       "Xochitl       Cancer     20      pulpo"
      ]
     },
     "execution_count": 22,
     "metadata": {},
     "output_type": "execute_result"
    }
   ],
   "source": [
    "df = df.drop(axis = 1, labels = 'Animal Fav')\n",
    "df"
   ]
  },
  {
   "cell_type": "code",
   "execution_count": 23,
   "id": "51c344fb",
   "metadata": {},
   "outputs": [
    {
     "data": {
      "text/html": [
       "<div>\n",
       "<style scoped>\n",
       "    .dataframe tbody tr th:only-of-type {\n",
       "        vertical-align: middle;\n",
       "    }\n",
       "\n",
       "    .dataframe tbody tr th {\n",
       "        vertical-align: top;\n",
       "    }\n",
       "\n",
       "    .dataframe thead th {\n",
       "        text-align: right;\n",
       "    }\n",
       "</style>\n",
       "<table border=\"1\" class=\"dataframe\">\n",
       "  <thead>\n",
       "    <tr style=\"text-align: right;\">\n",
       "      <th></th>\n",
       "      <th>Horoscopos</th>\n",
       "      <th>Edades</th>\n",
       "      <th>Animal_Fav</th>\n",
       "    </tr>\n",
       "    <tr>\n",
       "      <th>Nombres</th>\n",
       "      <th></th>\n",
       "      <th></th>\n",
       "      <th></th>\n",
       "    </tr>\n",
       "  </thead>\n",
       "  <tbody>\n",
       "    <tr>\n",
       "      <th>Sofia</th>\n",
       "      <td>Geminis</td>\n",
       "      <td>19</td>\n",
       "      <td>gato</td>\n",
       "    </tr>\n",
       "    <tr>\n",
       "      <th>Marlon</th>\n",
       "      <td>Cancer</td>\n",
       "      <td>20</td>\n",
       "      <td>gato</td>\n",
       "    </tr>\n",
       "    <tr>\n",
       "      <th>Samuel</th>\n",
       "      <td>Tauro</td>\n",
       "      <td>19</td>\n",
       "      <td>gato</td>\n",
       "    </tr>\n",
       "    <tr>\n",
       "      <th>Bruno</th>\n",
       "      <td>Libra</td>\n",
       "      <td>19</td>\n",
       "      <td>gato</td>\n",
       "    </tr>\n",
       "    <tr>\n",
       "      <th>Javier</th>\n",
       "      <td>Capricornio</td>\n",
       "      <td>21</td>\n",
       "      <td>gato</td>\n",
       "    </tr>\n",
       "    <tr>\n",
       "      <th>Diego</th>\n",
       "      <td>Sagitario</td>\n",
       "      <td>19</td>\n",
       "      <td>gato</td>\n",
       "    </tr>\n",
       "    <tr>\n",
       "      <th>Xochitl</th>\n",
       "      <td>Cancer</td>\n",
       "      <td>20</td>\n",
       "      <td>gato</td>\n",
       "    </tr>\n",
       "  </tbody>\n",
       "</table>\n",
       "</div>"
      ],
      "text/plain": [
       "          Horoscopos Edades Animal_Fav\n",
       "Nombres                               \n",
       "Sofia        Geminis     19       gato\n",
       "Marlon        Cancer     20       gato\n",
       "Samuel         Tauro     19       gato\n",
       "Bruno          Libra     19       gato\n",
       "Javier   Capricornio     21       gato\n",
       "Diego      Sagitario     19       gato\n",
       "Xochitl       Cancer     20       gato"
      ]
     },
     "execution_count": 23,
     "metadata": {},
     "output_type": "execute_result"
    }
   ],
   "source": [
    "df['Animal_Fav'] = 'gato'\n",
    "df"
   ]
  },
  {
   "cell_type": "code",
   "execution_count": 24,
   "id": "519660f5",
   "metadata": {},
   "outputs": [],
   "source": [
    "df.loc['Sofia', 'Animal_Fav'] = 'perro' # [indexador, nombre de la columna]"
   ]
  },
  {
   "cell_type": "code",
   "execution_count": 25,
   "id": "5698a11c",
   "metadata": {},
   "outputs": [
    {
     "data": {
      "text/html": [
       "<div>\n",
       "<style scoped>\n",
       "    .dataframe tbody tr th:only-of-type {\n",
       "        vertical-align: middle;\n",
       "    }\n",
       "\n",
       "    .dataframe tbody tr th {\n",
       "        vertical-align: top;\n",
       "    }\n",
       "\n",
       "    .dataframe thead th {\n",
       "        text-align: right;\n",
       "    }\n",
       "</style>\n",
       "<table border=\"1\" class=\"dataframe\">\n",
       "  <thead>\n",
       "    <tr style=\"text-align: right;\">\n",
       "      <th></th>\n",
       "      <th>Horoscopos</th>\n",
       "      <th>Edades</th>\n",
       "      <th>Animal_Fav</th>\n",
       "    </tr>\n",
       "    <tr>\n",
       "      <th>Nombres</th>\n",
       "      <th></th>\n",
       "      <th></th>\n",
       "      <th></th>\n",
       "    </tr>\n",
       "  </thead>\n",
       "  <tbody>\n",
       "    <tr>\n",
       "      <th>Sofia</th>\n",
       "      <td>Geminis</td>\n",
       "      <td>19</td>\n",
       "      <td>perro</td>\n",
       "    </tr>\n",
       "    <tr>\n",
       "      <th>Marlon</th>\n",
       "      <td>Cancer</td>\n",
       "      <td>20</td>\n",
       "      <td>gato</td>\n",
       "    </tr>\n",
       "    <tr>\n",
       "      <th>Samuel</th>\n",
       "      <td>Tauro</td>\n",
       "      <td>19</td>\n",
       "      <td>gato</td>\n",
       "    </tr>\n",
       "    <tr>\n",
       "      <th>Bruno</th>\n",
       "      <td>Libra</td>\n",
       "      <td>19</td>\n",
       "      <td>gato</td>\n",
       "    </tr>\n",
       "    <tr>\n",
       "      <th>Javier</th>\n",
       "      <td>Capricornio</td>\n",
       "      <td>21</td>\n",
       "      <td>gato</td>\n",
       "    </tr>\n",
       "    <tr>\n",
       "      <th>Diego</th>\n",
       "      <td>Sagitario</td>\n",
       "      <td>19</td>\n",
       "      <td>gato</td>\n",
       "    </tr>\n",
       "    <tr>\n",
       "      <th>Xochitl</th>\n",
       "      <td>Cancer</td>\n",
       "      <td>20</td>\n",
       "      <td>gato</td>\n",
       "    </tr>\n",
       "  </tbody>\n",
       "</table>\n",
       "</div>"
      ],
      "text/plain": [
       "          Horoscopos Edades Animal_Fav\n",
       "Nombres                               \n",
       "Sofia        Geminis     19      perro\n",
       "Marlon        Cancer     20       gato\n",
       "Samuel         Tauro     19       gato\n",
       "Bruno          Libra     19       gato\n",
       "Javier   Capricornio     21       gato\n",
       "Diego      Sagitario     19       gato\n",
       "Xochitl       Cancer     20       gato"
      ]
     },
     "execution_count": 25,
     "metadata": {},
     "output_type": "execute_result"
    }
   ],
   "source": [
    "df"
   ]
  },
  {
   "cell_type": "code",
   "execution_count": 26,
   "id": "379e8e67",
   "metadata": {},
   "outputs": [
    {
     "data": {
      "text/html": [
       "<div>\n",
       "<style scoped>\n",
       "    .dataframe tbody tr th:only-of-type {\n",
       "        vertical-align: middle;\n",
       "    }\n",
       "\n",
       "    .dataframe tbody tr th {\n",
       "        vertical-align: top;\n",
       "    }\n",
       "\n",
       "    .dataframe thead th {\n",
       "        text-align: right;\n",
       "    }\n",
       "</style>\n",
       "<table border=\"1\" class=\"dataframe\">\n",
       "  <thead>\n",
       "    <tr style=\"text-align: right;\">\n",
       "      <th></th>\n",
       "      <th>Horoscopos</th>\n",
       "      <th>Edades</th>\n",
       "      <th>Animal_Fav</th>\n",
       "    </tr>\n",
       "    <tr>\n",
       "      <th>Nombres</th>\n",
       "      <th></th>\n",
       "      <th></th>\n",
       "      <th></th>\n",
       "    </tr>\n",
       "  </thead>\n",
       "  <tbody>\n",
       "    <tr>\n",
       "      <th>Sofia</th>\n",
       "      <td>Geminis</td>\n",
       "      <td>19</td>\n",
       "      <td>perro</td>\n",
       "    </tr>\n",
       "    <tr>\n",
       "      <th>Marlon</th>\n",
       "      <td>Cancer</td>\n",
       "      <td>20</td>\n",
       "      <td>gato</td>\n",
       "    </tr>\n",
       "    <tr>\n",
       "      <th>Samuel</th>\n",
       "      <td>Tauro</td>\n",
       "      <td>19</td>\n",
       "      <td>delfin</td>\n",
       "    </tr>\n",
       "    <tr>\n",
       "      <th>Bruno</th>\n",
       "      <td>Libra</td>\n",
       "      <td>19</td>\n",
       "      <td>gato</td>\n",
       "    </tr>\n",
       "    <tr>\n",
       "      <th>Javier</th>\n",
       "      <td>Capricornio</td>\n",
       "      <td>21</td>\n",
       "      <td>gato</td>\n",
       "    </tr>\n",
       "    <tr>\n",
       "      <th>Diego</th>\n",
       "      <td>Sagitario</td>\n",
       "      <td>19</td>\n",
       "      <td>gato</td>\n",
       "    </tr>\n",
       "    <tr>\n",
       "      <th>Xochitl</th>\n",
       "      <td>Cancer</td>\n",
       "      <td>20</td>\n",
       "      <td>gato</td>\n",
       "    </tr>\n",
       "  </tbody>\n",
       "</table>\n",
       "</div>"
      ],
      "text/plain": [
       "          Horoscopos Edades Animal_Fav\n",
       "Nombres                               \n",
       "Sofia        Geminis     19      perro\n",
       "Marlon        Cancer     20       gato\n",
       "Samuel         Tauro     19     delfin\n",
       "Bruno          Libra     19       gato\n",
       "Javier   Capricornio     21       gato\n",
       "Diego      Sagitario     19       gato\n",
       "Xochitl       Cancer     20       gato"
      ]
     },
     "execution_count": 26,
     "metadata": {},
     "output_type": "execute_result"
    }
   ],
   "source": [
    "df.iloc[2, 2] = 'delfin'  # acceder a posicion especifica, como si fuera matriz, pero nombre no es columna \n",
    "df"
   ]
  },
  {
   "cell_type": "code",
   "execution_count": null,
   "id": "58d4001b",
   "metadata": {},
   "outputs": [],
   "source": [
    "# df.drop(axis = 0, labels ='Marlon') borrar a una persona"
   ]
  },
  {
   "cell_type": "code",
   "execution_count": 32,
   "id": "74269255",
   "metadata": {},
   "outputs": [],
   "source": [
    "df.to_csv('horoscopo_grupo.csv', index = None) # sep = '\\t'"
   ]
  },
  {
   "cell_type": "code",
   "execution_count": 33,
   "id": "19926b65",
   "metadata": {},
   "outputs": [],
   "source": [
    "less horoscopo_grupo.csv"
   ]
  },
  {
   "cell_type": "code",
   "execution_count": null,
   "id": "f0185530",
   "metadata": {},
   "outputs": [],
   "source": [
    "# LEER DATAFRAME"
   ]
  },
  {
   "cell_type": "code",
   "execution_count": 35,
   "id": "d2cd1806",
   "metadata": {},
   "outputs": [
    {
     "data": {
      "text/html": [
       "<div>\n",
       "<style scoped>\n",
       "    .dataframe tbody tr th:only-of-type {\n",
       "        vertical-align: middle;\n",
       "    }\n",
       "\n",
       "    .dataframe tbody tr th {\n",
       "        vertical-align: top;\n",
       "    }\n",
       "\n",
       "    .dataframe thead th {\n",
       "        text-align: right;\n",
       "    }\n",
       "</style>\n",
       "<table border=\"1\" class=\"dataframe\">\n",
       "  <thead>\n",
       "    <tr style=\"text-align: right;\">\n",
       "      <th></th>\n",
       "      <th>Horoscopos</th>\n",
       "      <th>Edades</th>\n",
       "    </tr>\n",
       "    <tr>\n",
       "      <th>Nombres</th>\n",
       "      <th></th>\n",
       "      <th></th>\n",
       "    </tr>\n",
       "  </thead>\n",
       "  <tbody>\n",
       "    <tr>\n",
       "      <th>Sofia</th>\n",
       "      <td>Geminis</td>\n",
       "      <td>19</td>\n",
       "    </tr>\n",
       "    <tr>\n",
       "      <th>Marlon</th>\n",
       "      <td>Cancer</td>\n",
       "      <td>20</td>\n",
       "    </tr>\n",
       "    <tr>\n",
       "      <th>Samuel</th>\n",
       "      <td>Tauro</td>\n",
       "      <td>19</td>\n",
       "    </tr>\n",
       "    <tr>\n",
       "      <th>Bruno</th>\n",
       "      <td>Libra</td>\n",
       "      <td>19</td>\n",
       "    </tr>\n",
       "    <tr>\n",
       "      <th>Javier</th>\n",
       "      <td>Capricornio</td>\n",
       "      <td>21</td>\n",
       "    </tr>\n",
       "    <tr>\n",
       "      <th>Diego</th>\n",
       "      <td>Sagitario</td>\n",
       "      <td>19</td>\n",
       "    </tr>\n",
       "    <tr>\n",
       "      <th>Xochitl</th>\n",
       "      <td>Cancer</td>\n",
       "      <td>20</td>\n",
       "    </tr>\n",
       "  </tbody>\n",
       "</table>\n",
       "</div>"
      ],
      "text/plain": [
       "          Horoscopos  Edades\n",
       "Nombres                     \n",
       "Sofia        Geminis      19\n",
       "Marlon        Cancer      20\n",
       "Samuel         Tauro      19\n",
       "Bruno          Libra      19\n",
       "Javier   Capricornio      21\n",
       "Diego      Sagitario      19\n",
       "Xochitl       Cancer      20"
      ]
     },
     "execution_count": 35,
     "metadata": {},
     "output_type": "execute_result"
    }
   ],
   "source": [
    "horoscopos = pd.read_csv('horoscopo_grupo.csv', index_col='Nombres') # delimiter = '\\t'\n",
    "horoscopos"
   ]
  },
  {
   "cell_type": "code",
   "execution_count": 37,
   "id": "0b6b5b34",
   "metadata": {},
   "outputs": [
    {
     "name": "stdout",
     "output_type": "stream",
     "text": [
      "Geminis\n",
      "Cancer\n",
      "Tauro\n",
      "Libra\n",
      "Capricornio\n",
      "Sagitario\n",
      "Cancer\n"
     ]
    }
   ],
   "source": [
    "for h in df.Horoscopos:\n",
    "    print(h)"
   ]
  },
  {
   "cell_type": "code",
   "execution_count": null,
   "id": "a08cc0e3",
   "metadata": {},
   "outputs": [],
   "source": []
  }
 ],
 "metadata": {
  "kernelspec": {
   "display_name": "Python 3 (ipykernel)",
   "language": "python",
   "name": "python3"
  },
  "language_info": {
   "codemirror_mode": {
    "name": "ipython",
    "version": 3
   },
   "file_extension": ".py",
   "mimetype": "text/x-python",
   "name": "python",
   "nbconvert_exporter": "python",
   "pygments_lexer": "ipython3",
   "version": "3.9.5"
  }
 },
 "nbformat": 4,
 "nbformat_minor": 5
}
