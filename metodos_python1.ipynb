{
 "cells": [
  {
   "cell_type": "markdown",
   "id": "80e3d3ca",
   "metadata": {},
   "source": [
    "OPERACIONES BASICAS PYTHON\n",
    "Sofia Salazar\n",
    "18 ago 2021"
   ]
  },
  {
   "cell_type": "code",
   "execution_count": null,
   "id": "d7c9f6ce",
   "metadata": {},
   "outputs": [],
   "source": [
    "x = 4 # Declarar la variable\n",
    "print(x, type(x)) # Imprimir el tipo de 3"
   ]
  },
  {
   "cell_type": "code",
   "execution_count": null,
   "id": "3be638e4",
   "metadata": {},
   "outputs": [],
   "source": [
    "print(x + 3) # Suma\n",
    "print(x - 3) # Resta\n",
    "print(x * 3) # Multiplicacion"
   ]
  },
  {
   "cell_type": "code",
   "execution_count": null,
   "id": "c6bc6b4a",
   "metadata": {},
   "outputs": [],
   "source": [
    "print(x)\n",
    "x += 1 # Igual que x = x +1\n",
    "print(x)\n",
    "x *= 2\n",
    "print(x)"
   ]
  },
  {
   "cell_type": "code",
   "execution_count": null,
   "id": "689ffdec",
   "metadata": {},
   "outputs": [],
   "source": [
    "y = 2.5\n",
    "print(type(y))\n",
    "print(y, y+1, y * 2, y**2)"
   ]
  },
  {
   "cell_type": "code",
   "execution_count": null,
   "id": "12347780",
   "metadata": {},
   "outputs": [],
   "source": [
    "t, f = True, False\n",
    "print(type(t)) # Tiene que decir que es un booleano\n",
    "print(type(f))\n",
    "print(t)\n",
    "print(f)"
   ]
  },
  {
   "cell_type": "markdown",
   "id": "8ac9649f",
   "metadata": {},
   "source": [
    "Operadores logicos"
   ]
  },
  {
   "cell_type": "code",
   "execution_count": null,
   "id": "99b4b55d",
   "metadata": {},
   "outputs": [],
   "source": [
    "print(t and f) # AND, &\n",
    "print(t or f) # OR, |\n",
    "print(not t)\n",
    "print( t!= f) # XOR, distinto a"
   ]
  },
  {
   "cell_type": "markdown",
   "id": "e9a2dcae",
   "metadata": {},
   "source": [
    "Cadenas de texto"
   ]
  },
  {
   "cell_type": "code",
   "execution_count": null,
   "id": "3a603183",
   "metadata": {},
   "outputs": [],
   "source": [
    "hello = 'hello'\n",
    "world = 'world'\n",
    "print(hello, len(hello))\n"
   ]
  },
  {
   "cell_type": "code",
   "execution_count": null,
   "id": "087f65ec",
   "metadata": {},
   "outputs": [],
   "source": [
    "hw = hello + ' ' + world # Concatencacion de cadenas"
   ]
  },
  {
   "cell_type": "code",
   "execution_count": null,
   "id": "49083229",
   "metadata": {},
   "outputs": [],
   "source": [
    "s = \"hello\"\n",
    "print(s.capitalize()) # primera en mayuscula\n",
    "print(s.upper()) # todo en mayuscula\n",
    "print(s.rjust(7)) # justificar con 7 espacios\n",
    "print(s.center(7)) # centrar con 7 espacios\n",
    "print(s.replace('l', '(ell)')) # remplazar l con (ell)\n",
    "print('   world     '.strip()) # le quita los espacios a lo que le de antes"
   ]
  },
  {
   "cell_type": "markdown",
   "id": "da693a2c",
   "metadata": {},
   "source": [
    "Listas"
   ]
  },
  {
   "cell_type": "code",
   "execution_count": null,
   "id": "91007c13",
   "metadata": {},
   "outputs": [],
   "source": [
    "xs = [0, 1, 2, 3]\n",
    "print(xs, xs[2])\n",
    "print(xs[-1]) # acceder al ultimo valor de la lista"
   ]
  },
  {
   "cell_type": "code",
   "execution_count": null,
   "id": "64cc116a",
   "metadata": {},
   "outputs": [],
   "source": [
    "xs[2] = 'fox2' # remplazar un valor de la lista\n",
    "print(xs)"
   ]
  },
  {
   "cell_type": "code",
   "execution_count": null,
   "id": "c0cf95e0",
   "metadata": {},
   "outputs": [],
   "source": [
    "xs.append('bar')\n",
    "print(xs) # agregar un elemento al final"
   ]
  },
  {
   "cell_type": "code",
   "execution_count": null,
   "id": "50b06c5a",
   "metadata": {},
   "outputs": [],
   "source": [
    "x = xs.pop() # sacar el valor de la lista y asignarlo a una variable\n",
    "print(x, xs) # tambien se modifica la lista y se quita ese valor"
   ]
  },
  {
   "cell_type": "code",
   "execution_count": null,
   "id": "9a1f66f5",
   "metadata": {},
   "outputs": [],
   "source": [
    "nums = list(range(5)) # hace una lista del 0 al 4\n",
    "print(nums)\n",
    "print(nums[2:4])\n",
    "print(nums[2:]) # del 2 al final\n",
    "print(nums[:2]) # del principio al 2\n",
    "print(nums[:-1]) # del penultimo al principio\n",
    "nums[2:4] = [8, 9] # remplazar unos valores\n",
    "print(nums)\n"
   ]
  },
  {
   "cell_type": "code",
   "execution_count": null,
   "id": "4ef1e4c1",
   "metadata": {},
   "outputs": [],
   "source": [
    "animales = ['gato', 'perro', 'chango'] # imprimir elementos en lista (iterar)\n",
    "for animal in animales:\n",
    "    print(animal)"
   ]
  },
  {
   "cell_type": "code",
   "execution_count": null,
   "id": "49b1e335",
   "metadata": {},
   "outputs": [],
   "source": [
    "animales = ['gato', 'perro', 'chango'] \n",
    "for idx, animal in enumerate(animales): # primero da el index y luego el valor para ese iterador\n",
    "    print('#{}: {}'.format(idx + 1, animal)) # dentro de format se ponen los valores que\n",
    "    # se van a asignar a los {}"
   ]
  },
  {
   "cell_type": "code",
   "execution_count": null,
   "id": "84e2512e",
   "metadata": {},
   "outputs": [],
   "source": [
    "nums = [0, 1, 2, 3, 4]\n",
    "squares = []\n",
    "for x in nums: # agregar los cuadrados a la lista squares\n",
    "    squares.append(x**2)\n",
    "print(squares)"
   ]
  },
  {
   "cell_type": "markdown",
   "id": "277041ef",
   "metadata": {},
   "source": [
    "List comprehensions (comprensiones de listas)"
   ]
  },
  {
   "cell_type": "code",
   "execution_count": null,
   "id": "fe633ddd",
   "metadata": {},
   "outputs": [],
   "source": [
    "nums = [0, 1, 2, 3, 4] # hace lo mismo que arriba en una sola linea\n",
    "squares = [x**2 for x in nums] # hago x**2 antes de declarar x\n",
    "print(squares)"
   ]
  },
  {
   "cell_type": "code",
   "execution_count": null,
   "id": "b349bc72",
   "metadata": {},
   "outputs": [],
   "source": [
    "nums = [0, 1, 2, 3, 4]\n",
    "even_squares = [x**2 for x in nums if x % 2==0] # imprimir solo los cuadrados de los pares\n",
    "print(even_squares)"
   ]
  },
  {
   "cell_type": "markdown",
   "id": "a2f560f7",
   "metadata": {},
   "source": [
    "Diccionarios"
   ]
  },
  {
   "cell_type": "code",
   "execution_count": null,
   "id": "6eee09fc",
   "metadata": {},
   "outputs": [],
   "source": [
    "d = {'gato':'arena', 'perro':'parque'} #key : valor\n",
    "print(d['gato']) # imprimir de d imprimir el valor de llave gato\n",
    "print ('gato' in d) # imprimir si gato esta dentro de d\n"
   ]
  },
  {
   "cell_type": "code",
   "execution_count": null,
   "id": "74dc760a",
   "metadata": {},
   "outputs": [],
   "source": [
    "d['pez'] = 'agua' # agregar key y valor a diccionario\n",
    "print(d['pez'])"
   ]
  },
  {
   "cell_type": "code",
   "execution_count": null,
   "id": "fe6edf7e",
   "metadata": {},
   "outputs": [],
   "source": [
    "print(d['chango']) # error"
   ]
  },
  {
   "cell_type": "code",
   "execution_count": null,
   "id": "07a120d4",
   "metadata": {},
   "outputs": [],
   "source": [
    "print(d.get('chango', 'N/A')) # Imprime el valor o decir si no existe\n",
    "print(d.get('pez', 'N/A'))"
   ]
  },
  {
   "cell_type": "code",
   "execution_count": null,
   "id": "5a46f3ab",
   "metadata": {},
   "outputs": [],
   "source": [
    "del d['pez'] # Borrar key pez y su valor\n",
    "print(d.get('pez', 'N/A'))"
   ]
  },
  {
   "cell_type": "code",
   "execution_count": null,
   "id": "7938cf73",
   "metadata": {},
   "outputs": [],
   "source": [
    "d = {'humano':2, 'gato':4, 'aracnido':8}\n",
    "for animal, patas in d.items(): # accesa a lo que hay dentro de diccionario KEY:VALOR\n",
    "    print('Un {} tiene {} patas'.format(animal, patas))"
   ]
  },
  {
   "cell_type": "markdown",
   "id": "466b0f5d",
   "metadata": {},
   "source": [
    "Dictionary comprehensions"
   ]
  },
  {
   "cell_type": "code",
   "execution_count": null,
   "id": "b753375b",
   "metadata": {},
   "outputs": [],
   "source": [
    "nums = [0, 1, 2, 3, 4]\n",
    "pares_a_cuadrados = {x:x**2 for x in nums if x % 2 == 0} # si el elemento de la lista nums\n",
    "# son cuadrados, entonces se agrega al diccionario y su key es el elemento original\n",
    "print(pares_a_cuadrados)"
   ]
  },
  {
   "cell_type": "markdown",
   "id": "9daf010d",
   "metadata": {},
   "source": [
    "SETS\n",
    "No puede tener elementos repetidos\n",
    "No tienen indices\n",
    "No tienen orden"
   ]
  },
  {
   "cell_type": "code",
   "execution_count": null,
   "id": "f79ab2df",
   "metadata": {},
   "outputs": [],
   "source": [
    "animales = {'gato', 'perro'} # set diccionario de solo llaves\n",
    "print('gato' in animales)\n",
    "print('pez' in animales)"
   ]
  },
  {
   "cell_type": "code",
   "execution_count": null,
   "id": "f031eb28",
   "metadata": {},
   "outputs": [],
   "source": [
    "animales.add('pez')\n",
    "print('pez' in animales)\n",
    "print(len(animales))"
   ]
  },
  {
   "cell_type": "code",
   "execution_count": null,
   "id": "e4ec5c06",
   "metadata": {},
   "outputs": [],
   "source": [
    "animales.add('gato') # se agrega gato otra vez, entonces la longitud sigue siendo 3\n",
    "print(len(animales))\n",
    "animales.remove('gato')\n",
    "print(len(animales))"
   ]
  },
  {
   "cell_type": "markdown",
   "id": "c0c2a6c4",
   "metadata": {},
   "source": [
    "Loops"
   ]
  },
  {
   "cell_type": "code",
   "execution_count": null,
   "id": "0730f3f9",
   "metadata": {},
   "outputs": [],
   "source": [
    "animales = {'gato', 'perro', 'pez'}\n",
    "for idx, animal in enumerate(animales):\n",
    "    print('#{}: {}'.format(idx + 1, animal))\n",
    "    # se imprimen en orden distinto, porque no tienen orden"
   ]
  },
  {
   "cell_type": "markdown",
   "id": "cfdf5170",
   "metadata": {},
   "source": [
    "Set comprehensions"
   ]
  },
  {
   "cell_type": "code",
   "execution_count": null,
   "id": "c6ce1544",
   "metadata": {},
   "outputs": [],
   "source": [
    "from math import sqrt\n",
    "print({int(sqrt(x)) for x in range(30)}) # la x es lo que esta dentro del rango 0 a 30"
   ]
  },
  {
   "cell_type": "markdown",
   "id": "8da6a120",
   "metadata": {},
   "source": [
    "Tuplas\n",
    "Conjuntos de datos que no pueden ser modificados"
   ]
  },
  {
   "cell_type": "code",
   "execution_count": null,
   "id": "007499c8",
   "metadata": {},
   "outputs": [],
   "source": [
    "d = {(x, x + 1):x for x in range(10)} # diccionario con las llaves como tuplas\n",
    "t = (5, 6)\n",
    "print(type(t))\n",
    "print(d)\n",
    "print(d[t])\n",
    "print(d[(1, 2)])"
   ]
  },
  {
   "cell_type": "code",
   "execution_count": null,
   "id": "42e2f36f",
   "metadata": {},
   "outputs": [],
   "source": [
    "t[0] = 1 # no se pueden modificar las tuplas"
   ]
  },
  {
   "cell_type": "markdown",
   "id": "420f963b",
   "metadata": {},
   "source": [
    "Funciones"
   ]
  },
  {
   "cell_type": "code",
   "execution_count": null,
   "id": "271d83f9",
   "metadata": {},
   "outputs": [],
   "source": [
    "def sign(x):  # imprime el resultado dependiendo del argumento que se le pase\n",
    "    if x > 0:\n",
    "        return 'positive'\n",
    "    elif x<0:\n",
    "        return 'negative'\n",
    "    else:\n",
    "        return 'zero'\n",
    "    \n",
    "    \n",
    "for x in [-1, 0, 1]:\n",
    "    print(sign(x))  # aqui se llama a la funcion"
   ]
  },
  {
   "cell_type": "code",
   "execution_count": null,
   "id": "3de6bdb4",
   "metadata": {},
   "outputs": [],
   "source": [
    "def hello(name, loud = False):  # recibe 2 argumentos, uno es booleano, por default FALSO\n",
    "    if loud: # Si es True, se escribe el nombre en mayuscula\n",
    "        print('HELLO, {}!!!!!'.format(name.upper())) # va a poner el nombre en mayuscula\n",
    "    else: # si se queda en falso, se imprime como se manda el nombre\n",
    "        print('Hello, {}!'.format(name))\n",
    "        \n",
    "hello('Bob')\n",
    "hello('Fred', loud = True)"
   ]
  },
  {
   "cell_type": "markdown",
   "id": "732ab633",
   "metadata": {},
   "source": [
    "NUMPY"
   ]
  },
  {
   "cell_type": "code",
   "execution_count": null,
   "id": "6122aee7",
   "metadata": {},
   "outputs": [],
   "source": [
    "import numpy as np"
   ]
  },
  {
   "cell_type": "code",
   "execution_count": null,
   "id": "a110b8a3",
   "metadata": {},
   "outputs": [],
   "source": [
    "a = np.array([1, 2, 3]) # definir un arreglo, usando una lista\n",
    "print(type(a), a[0], a[1], a[2])\n",
    "a[0] = 5\n",
    "print(a)"
   ]
  },
  {
   "cell_type": "code",
   "execution_count": null,
   "id": "b6bc79a6",
   "metadata": {},
   "outputs": [],
   "source": [
    "b = np.array([[1, 2, 3], [4, 5, 6]]) # arreglo bidimensional, listas adentro de lista\n",
    "print(b)"
   ]
  },
  {
   "cell_type": "code",
   "execution_count": null,
   "id": "11e7fd95",
   "metadata": {},
   "outputs": [],
   "source": [
    "print(b.shape) # matriz de 2 x 3\n",
    "print(b[0, 0], b[0, 1], b[1,0])  # imprimir coordenadas en b"
   ]
  },
  {
   "cell_type": "code",
   "execution_count": null,
   "id": "9427a146",
   "metadata": {},
   "outputs": [],
   "source": [
    "a = np.zeros((2, 2))\n",
    "print(a)"
   ]
  },
  {
   "cell_type": "code",
   "execution_count": null,
   "id": "ef3da1c1",
   "metadata": {},
   "outputs": [],
   "source": [
    "b =np.ones((2, 2))\n",
    "print(b)"
   ]
  },
  {
   "cell_type": "code",
   "execution_count": null,
   "id": "2e1971f8",
   "metadata": {},
   "outputs": [],
   "source": [
    "c = np.full((1, 2), 7) # llenar matriz de 7\n",
    "print(c)\n"
   ]
  },
  {
   "cell_type": "code",
   "execution_count": null,
   "id": "3fb8d8ee",
   "metadata": {},
   "outputs": [],
   "source": [
    "d = np.eye(2) # matriz identidad de 2 x2\n",
    "print(2)"
   ]
  },
  {
   "cell_type": "code",
   "execution_count": null,
   "id": "78583a01",
   "metadata": {},
   "outputs": [],
   "source": [
    "e = np.random.random((2,2)) # matriz valores random\n",
    "print(e)"
   ]
  },
  {
   "cell_type": "code",
   "execution_count": null,
   "id": "336e8ff2",
   "metadata": {},
   "outputs": [],
   "source": [
    "import numpy as np\n",
    "\n",
    "\n",
    "a = np.array([[1,2,3,4], [5, 6, 7, 8], [9,10,11,12]]) #crea arreglo\n",
    "b = a[:2, 1:3] # todo hasta la linea 2 excluyente, y de las columnas 1 y 2\n",
    "print(a)\n",
    "print(b)"
   ]
  },
  {
   "cell_type": "raw",
   "id": "65129e3c",
   "metadata": {},
   "source": [
    "Rebanada de arreglo es una vista de arreglo, si se modifica, modifico arreglo original"
   ]
  },
  {
   "cell_type": "code",
   "execution_count": null,
   "id": "0f6e5b38",
   "metadata": {},
   "outputs": [],
   "source": [
    "print(a[0,1])\n",
    "b[0,0] = 77 # cambiando arreglo original\n",
    "print(a[0,1])"
   ]
  },
  {
   "cell_type": "code",
   "execution_count": null,
   "id": "e327a13a",
   "metadata": {},
   "outputs": [],
   "source": [
    "# Copia de arreglo para que no se referencia\n",
    "import numpy as np\n",
    "b = np.array(a[:2, 1:3]) # declarar un nuevo array\n",
    "print(b)\n",
    "b[0,0] = 77\n",
    "print(a)  # podemos ver que no se cambia el a original\n",
    "print(b)"
   ]
  },
  {
   "cell_type": "code",
   "execution_count": null,
   "id": "c7a32e0b",
   "metadata": {},
   "outputs": [],
   "source": [
    "x = np.array([[1,2],[3,4]], dtype = np.float64)\n",
    "y = np.array([[5, 6], [7,8]], dtype = np.float64)\n",
    "print(x + y)\n",
    "print(np.add(x, y)) # sumar 2 arrays"
   ]
  },
  {
   "cell_type": "code",
   "execution_count": null,
   "id": "f47107b2",
   "metadata": {},
   "outputs": [],
   "source": [
    "print(x - y)\n",
    "print(np.subtract(x, y)) # restar 2 arrays"
   ]
  },
  {
   "cell_type": "code",
   "execution_count": null,
   "id": "119e7439",
   "metadata": {},
   "outputs": [],
   "source": [
    "print(x * y)\n",
    "print(np.multiply(x, y)) # multiplicar 2 array"
   ]
  },
  {
   "cell_type": "code",
   "execution_count": null,
   "id": "e4fbe371",
   "metadata": {},
   "outputs": [],
   "source": [
    "print(x / y)\n",
    "print(np.divide(x, y))  # dividir 2 arrays"
   ]
  },
  {
   "cell_type": "code",
   "execution_count": null,
   "id": "e699218f",
   "metadata": {},
   "outputs": [],
   "source": [
    "print(np.sqrt(x)) # raiz de un array"
   ]
  },
  {
   "cell_type": "code",
   "execution_count": null,
   "id": "9a91adf2",
   "metadata": {},
   "outputs": [],
   "source": [
    "x = np.array([[1,2],[3,4]])\n",
    "y = np.array([[5, 6], [7,8]])\n",
    "\n",
    "v = np.array([9,10])\n",
    "w = np.array([11,12])\n",
    "\n",
    "#Producto interno de vectores; ambos producen 219\n",
    "print(v.dot(w))\n",
    "print(np.dot(v,w)) #producto punto"
   ]
  },
  {
   "cell_type": "code",
   "execution_count": null,
   "id": "b96009a7",
   "metadata": {},
   "outputs": [],
   "source": [
    "print(v.dot(x))\n",
    "print(np.dot(v,x))\n",
    "print(v @ x)"
   ]
  },
  {
   "cell_type": "code",
   "execution_count": null,
   "id": "bcdcae86",
   "metadata": {},
   "outputs": [],
   "source": [
    "print(x @ y) # multiplicacion de matrices"
   ]
  },
  {
   "cell_type": "code",
   "execution_count": null,
   "id": "3bd4a401",
   "metadata": {},
   "outputs": [],
   "source": [
    "import numpy as np\n",
    "x = np.array([[1,2],[3,4]])"
   ]
  },
  {
   "cell_type": "code",
   "execution_count": null,
   "id": "20fa9f3b",
   "metadata": {},
   "outputs": [],
   "source": [
    "print(np.sum(x)) # suma de los columnas\n",
    "print(np.sum(x, axis = 0)) # suma de cada columna\n",
    "print(np.sum(x, axis = 1)) # suma de cada linea"
   ]
  },
  {
   "cell_type": "code",
   "execution_count": null,
   "id": "c541b233",
   "metadata": {},
   "outputs": [],
   "source": [
    "print(x)\n",
    "print(\"transponse\\n\", x.T) # transponer matriz"
   ]
  },
  {
   "cell_type": "code",
   "execution_count": null,
   "id": "a3196eb0",
   "metadata": {},
   "outputs": [],
   "source": [
    "v = np.array([[1,2,3]]) # importante poner los dos corchetes\n",
    "print(v)\n",
    "print(\"transpose\\n\", v.T)"
   ]
  },
  {
   "cell_type": "code",
   "execution_count": null,
   "id": "61c613bc",
   "metadata": {},
   "outputs": [],
   "source": [
    "MATHPLOTLIB\n",
    "para graficar"
   ]
  },
  {
   "cell_type": "code",
   "execution_count": null,
   "id": "769cae17",
   "metadata": {},
   "outputs": [],
   "source": [
    "import matplotlib.pyplot as plt  #importar solo el modulo pyplot que grafica\n",
    "import numpy as np"
   ]
  },
  {
   "cell_type": "markdown",
   "id": "2b00c4eb",
   "metadata": {},
   "source": [
    "Siguiente linea para que salgan las graficas en jupyter notebook"
   ]
  },
  {
   "cell_type": "code",
   "execution_count": null,
   "id": "8372772c",
   "metadata": {},
   "outputs": [],
   "source": [
    "%matplotlib inline"
   ]
  },
  {
   "cell_type": "code",
   "execution_count": null,
   "id": "f1fc291c",
   "metadata": {},
   "outputs": [],
   "source": [
    "%%bash\n",
    "ls  # magia de bash para correr lineas en jupyter notebook"
   ]
  },
  {
   "cell_type": "code",
   "execution_count": null,
   "id": "7da2be99",
   "metadata": {},
   "outputs": [],
   "source": [
    "x = np.arange(0, 3 * np.pi, 0.1) # array de 0 hasta 3 * pi, con separacion de 0.1 para eje x\n",
    "y = np.sin(x)\n",
    "\n",
    "plt.plot(x,y)"
   ]
  },
  {
   "cell_type": "code",
   "execution_count": null,
   "id": "ea206b49",
   "metadata": {},
   "outputs": [],
   "source": [
    "y_sin = np.sin(x)\n",
    "y_cos = np.cos(x)\n",
    "plt.plot(x, y_sin) # juntar 2 graficas\n",
    "plt.plot(x, y_cos)\n",
    "plt.xlabel('x axis label')\n",
    "plt.title('Sine and Cosine')\n",
    "plt.legend(['Sine', 'Cosine']) # asignar nombres a las graficas"
   ]
  },
  {
   "cell_type": "code",
   "execution_count": null,
   "id": "85667e45",
   "metadata": {},
   "outputs": [],
   "source": [
    "x = np.arange(0, 3 * np.pi, 0.1)\n",
    "y_sin = np.sin(x)\n",
    "y_cos = np.cos(x)\n",
    "\n",
    "plt.subplot(2, 1, 1) # subplot 1, (numero de subplots, no.columnas, linea1) grafica esto\n",
    "plt.plot(x, y_sin)\n",
    "plt.title('Sine')\n",
    "\n",
    "plt.subplot(2,1,2) # subplot2, en la linea 2\n",
    "plt.plot(x, y_cos)\n",
    "plt.title('Cosine')\n",
    "\n",
    "# plt.savefig para guardar la figura"
   ]
  },
  {
   "cell_type": "markdown",
   "id": "00f55189",
   "metadata": {},
   "source": [
    "PANDAS"
   ]
  },
  {
   "cell_type": "code",
   "execution_count": null,
   "id": "a53a22db",
   "metadata": {},
   "outputs": [],
   "source": [
    "import pandas as pd"
   ]
  },
  {
   "cell_type": "code",
   "execution_count": null,
   "id": "35feba19",
   "metadata": {},
   "outputs": [],
   "source": [
    "# Dataframe\n",
    "df = pd.DataFrame({'Nombres': ['Sofia', 'Marlon', 'Samuel', 'Bruno', 'Javier', 'Diego', 'Xochitl'], \\\n",
    "     'Horoscopos': ['Geminis', 'Cancer', 'Tauro', 'Libra', 'Capricornio', 'Sagitario', \\\n",
    "                   'Cancer'], \\\n",
    "     'Edades': ['19', '20', '19', '19', '21', '19', '20']}) #llaves - columnas, valores -rows\n",
    "# un valor se puede poner como np.nan y es nulo"
   ]
  },
  {
   "cell_type": "code",
   "execution_count": null,
   "id": "fe2bbb88",
   "metadata": {},
   "outputs": [],
   "source": [
    "type(df)"
   ]
  },
  {
   "cell_type": "code",
   "execution_count": null,
   "id": "3a298780",
   "metadata": {},
   "outputs": [],
   "source": [
    "df"
   ]
  },
  {
   "cell_type": "code",
   "execution_count": null,
   "id": "35745c16",
   "metadata": {},
   "outputs": [],
   "source": [
    "df = df.set_index('Nombres') # poner los nombres como los indices"
   ]
  },
  {
   "cell_type": "code",
   "execution_count": null,
   "id": "71def3b8",
   "metadata": {},
   "outputs": [],
   "source": [
    "df"
   ]
  },
  {
   "cell_type": "code",
   "execution_count": null,
   "id": "28b69664",
   "metadata": {},
   "outputs": [],
   "source": [
    "df.info()"
   ]
  },
  {
   "cell_type": "code",
   "execution_count": null,
   "id": "f8c12c9c",
   "metadata": {},
   "outputs": [],
   "source": [
    "type(df.Edades) # las edades son strings\n",
    "# lambda itera en cada valor de la columna (que es una serie) de Edades\n",
    "df['Edades'] = df.Edades.apply(lambda x: int(x))"
   ]
  },
  {
   "cell_type": "code",
   "execution_count": null,
   "id": "6a354f7c",
   "metadata": {},
   "outputs": [],
   "source": [
    "df.Edades.mean()"
   ]
  },
  {
   "cell_type": "code",
   "execution_count": null,
   "id": "303cadcb",
   "metadata": {},
   "outputs": [],
   "source": [
    "# sumarle un anio a cada persona\n",
    "# si se puede df.Edades porque estas remplazando\n",
    "df.Edades = df.Edades.apply(lambda x: int(x+1))\n",
    "df"
   ]
  },
  {
   "cell_type": "code",
   "execution_count": null,
   "id": "ee0e6374",
   "metadata": {},
   "outputs": [],
   "source": [
    "df.Edades.hist() # panda grafica"
   ]
  },
  {
   "cell_type": "code",
   "execution_count": null,
   "id": "63aad9f5",
   "metadata": {},
   "outputs": [],
   "source": [
    "df['Animal_Fav'] = ['perro', 'gato', 'delfin', 'perro', 'serpiente', 'axolotl', 'pulpo']\n",
    "df"
   ]
  },
  {
   "cell_type": "code",
   "execution_count": null,
   "id": "c157bc6b",
   "metadata": {},
   "outputs": [],
   "source": [
    "df['Animal Fav'] = 'gato'\n",
    "df"
   ]
  },
  {
   "cell_type": "code",
   "execution_count": null,
   "id": "dc616cfb",
   "metadata": {},
   "outputs": [],
   "source": [
    "df = df.drop(axis = 1, labels = 'Animal Fav')\n",
    "df"
   ]
  },
  {
   "cell_type": "code",
   "execution_count": null,
   "id": "51c344fb",
   "metadata": {},
   "outputs": [],
   "source": [
    "df['Animal_Fav'] = 'gato'\n",
    "df"
   ]
  },
  {
   "cell_type": "code",
   "execution_count": null,
   "id": "519660f5",
   "metadata": {},
   "outputs": [],
   "source": [
    "df.loc['Sofia', 'Animal_Fav'] = 'perro' # [indexador, nombre de la columna]"
   ]
  },
  {
   "cell_type": "code",
   "execution_count": null,
   "id": "5698a11c",
   "metadata": {},
   "outputs": [],
   "source": [
    "df"
   ]
  },
  {
   "cell_type": "code",
   "execution_count": null,
   "id": "379e8e67",
   "metadata": {},
   "outputs": [],
   "source": [
    "df.iloc[2, 2] = 'delfin'  # acceder a posicion especifica, como si fuera matriz, pero nombre no es columna \n",
    "df"
   ]
  },
  {
   "cell_type": "code",
   "execution_count": null,
   "id": "58d4001b",
   "metadata": {},
   "outputs": [],
   "source": [
    "# df.drop(axis = 0, labels ='Marlon') borrar a una persona"
   ]
  },
  {
   "cell_type": "code",
   "execution_count": null,
   "id": "74269255",
   "metadata": {},
   "outputs": [],
   "source": [
    "df.to_csv('horoscopo_grupo.csv', index = None) # sep = '\\t'"
   ]
  },
  {
   "cell_type": "code",
   "execution_count": null,
   "id": "19926b65",
   "metadata": {},
   "outputs": [],
   "source": [
    "less horoscopo_grupo.csv"
   ]
  },
  {
   "cell_type": "code",
   "execution_count": null,
   "id": "f0185530",
   "metadata": {},
   "outputs": [],
   "source": [
    "# LEER DATAFRAME"
   ]
  },
  {
   "cell_type": "code",
   "execution_count": null,
   "id": "d2cd1806",
   "metadata": {},
   "outputs": [],
   "source": [
    "horoscopos = pd.read_csv('horoscopo_grupo.csv', index_col='Nombres') # delimiter = '\\t'\n",
    "horoscopos"
   ]
  },
  {
   "cell_type": "code",
   "execution_count": null,
   "id": "0b6b5b34",
   "metadata": {},
   "outputs": [],
   "source": [
    "for h in df.Horoscopos: # iterar en cada columna de un dataframe\n",
    "    print(h)"
   ]
  },
  {
   "cell_type": "markdown",
   "id": "da1009a0",
   "metadata": {},
   "source": [
    "LOGICA"
   ]
  },
  {
   "cell_type": "code",
   "execution_count": null,
   "id": "9d09ca4d",
   "metadata": {},
   "outputs": [],
   "source": [
    "2 == 2 # equal\n",
    "2 != 1 # not equal\n",
    "0 < 1 # less\n",
    "2 > 1 # greater\n",
    "# <= >="
   ]
  },
  {
   "cell_type": "code",
   "execution_count": null,
   "id": "271b4d75",
   "metadata": {},
   "outputs": [],
   "source": [
    "x = 12\n",
    "x > 5 and x< 14 # True"
   ]
  },
  {
   "cell_type": "code",
   "execution_count": null,
   "id": "c98f63a9",
   "metadata": {},
   "outputs": [],
   "source": [
    "True or True"
   ]
  },
  {
   "cell_type": "code",
   "execution_count": null,
   "id": "501d4c43",
   "metadata": {},
   "outputs": [],
   "source": [
    "False or True"
   ]
  },
  {
   "cell_type": "code",
   "execution_count": null,
   "id": "4ae757ab",
   "metadata": {},
   "outputs": [],
   "source": [
    "True or False"
   ]
  },
  {
   "cell_type": "code",
   "execution_count": null,
   "id": "58f69b96",
   "metadata": {},
   "outputs": [],
   "source": [
    "False or False"
   ]
  },
  {
   "cell_type": "code",
   "execution_count": null,
   "id": "98a98038",
   "metadata": {},
   "outputs": [],
   "source": [
    "y = 5\n",
    "y < 7 or y > 13 # true or false = true"
   ]
  },
  {
   "cell_type": "code",
   "execution_count": null,
   "id": "5c58aa7d",
   "metadata": {},
   "outputs": [],
   "source": [
    "not True"
   ]
  },
  {
   "cell_type": "code",
   "execution_count": null,
   "id": "4fb6d8fa",
   "metadata": {},
   "outputs": [],
   "source": [
    "import numpy as np\n",
    "e = np.array([1, 2, 3])"
   ]
  },
  {
   "cell_type": "code",
   "execution_count": null,
   "id": "186951db",
   "metadata": {},
   "outputs": [],
   "source": [
    "e > 21"
   ]
  },
  {
   "cell_type": "code",
   "execution_count": null,
   "id": "059d2eb8",
   "metadata": {},
   "outputs": [],
   "source": [
    "np.logical_and(e > 21, e< 21) # compara dato por dato si funciona el and"
   ]
  },
  {
   "cell_type": "code",
   "execution_count": null,
   "id": "50ab8f71",
   "metadata": {},
   "outputs": [],
   "source": [
    "import pandas as pd\n",
    "import numpy as np\n",
    "import seaborn as sns\n",
    "import matplotlib.pyplot as plt  #"
   ]
  },
  {
   "cell_type": "code",
   "execution_count": null,
   "id": "6c765e81",
   "metadata": {},
   "outputs": [],
   "source": [
    "df = pd.DataFrame({'key':['A','B','C','A','B','C','A','B','C'],\n",
    "                   'data': [0, 5, 10, 5, 10, 15, 10, 15, 20]})\n",
    "df"
   ]
  },
  {
   "cell_type": "code",
   "execution_count": null,
   "id": "04f38ec3",
   "metadata": {},
   "outputs": [],
   "source": [
    "df.data.sum()"
   ]
  },
  {
   "cell_type": "code",
   "execution_count": null,
   "id": "1b07750e",
   "metadata": {},
   "outputs": [],
   "source": [
    "# filtrar dataframe adentro de un for\n",
    "for key in ['A', 'B', 'C']:\n",
    "    print(key, df[df['key'] == key]['data'].sum()) "
   ]
  },
  {
   "cell_type": "code",
   "execution_count": null,
   "id": "7e367fb2",
   "metadata": {},
   "outputs": [],
   "source": [
    "df.groupby('key').sum()\n",
    "# agrupar por los que tengan la key"
   ]
  },
  {
   "cell_type": "code",
   "execution_count": null,
   "id": "30aad3b6",
   "metadata": {},
   "outputs": [],
   "source": [
    "df.groupby('key').aggregate(np.sum)"
   ]
  },
  {
   "cell_type": "code",
   "execution_count": null,
   "id": "83eafee9",
   "metadata": {},
   "outputs": [],
   "source": [
    "df.groupby('key')['data'].sum()"
   ]
  },
  {
   "cell_type": "markdown",
   "id": "effbbdee",
   "metadata": {},
   "source": [
    "WHILE LOOPS"
   ]
  },
  {
   "cell_type": "code",
   "execution_count": null,
   "id": "95d9503e",
   "metadata": {},
   "outputs": [],
   "source": [
    "error = 50\n",
    "while error > 1:\n",
    "    error = error/4\n",
    "    print(error)"
   ]
  },
  {
   "cell_type": "markdown",
   "id": "88c9a719",
   "metadata": {},
   "source": [
    "Files"
   ]
  },
  {
   "cell_type": "code",
   "execution_count": null,
   "id": "71e178cc",
   "metadata": {},
   "outputs": [],
   "source": [
    "with open(filename, 'r') as file\n",
    " # hacer el codigo aqui\n",
    "# se cierra automaticamente el archivo"
   ]
  },
  {
   "cell_type": "code",
   "execution_count": null,
   "id": "9903f566",
   "metadata": {},
   "outputs": [],
   "source": [
    "filename = 'blah'\n",
    "file = open(filename, mode = 'r')\n",
    "# codigo aqui\n",
    "close('blah.txt')"
   ]
  },
  {
   "cell_type": "markdown",
   "id": "7530876c",
   "metadata": {},
   "source": [
    "SAS Files\n",
    "sirven para estudios estadisticos"
   ]
  },
  {
   "cell_type": "code",
   "execution_count": null,
   "id": "12d92f21",
   "metadata": {},
   "outputs": [],
   "source": [
    "# asi se pueden meter\n",
    "import pandas as pd\n",
    "from sas7bdat import SAS7BDAT\n",
    "with SAS78DAT('sales.sas7bdat') as file:\n",
    "    df_sas = file.to_data_frame()\n"
   ]
  },
  {
   "cell_type": "markdown",
   "id": "89f5b875",
   "metadata": {},
   "source": [
    "STATA FILES\n",
    "para datos epidemiologicos"
   ]
  },
  {
   "cell_type": "code",
   "execution_count": null,
   "id": "ff7bc2eb",
   "metadata": {},
   "outputs": [],
   "source": [
    "import pandas as pd\n",
    "data = pd.read_stata('disarea.dta')"
   ]
  },
  {
   "cell_type": "markdown",
   "id": "b3d894ac",
   "metadata": {},
   "source": [
    "MATLAB FILES"
   ]
  },
  {
   "cell_type": "code",
   "execution_count": null,
   "id": "b8d07fbb",
   "metadata": {},
   "outputs": [],
   "source": [
    "import scipy.io as sp\n",
    "filename = './ja_data2.mat'\n",
    "mat = sp.loadmat(filename)\n",
    "print(type(mat)) # lo mete como diccionario\n",
    "# diccionario a dataframe ?????"
   ]
  },
  {
   "cell_type": "code",
   "execution_count": null,
   "id": "c523acab",
   "metadata": {},
   "outputs": [],
   "source": [
    "df = pd.read_json('archivo_json') # leer archivo de tipo jason, que es un diccionario"
   ]
  },
  {
   "cell_type": "markdown",
   "id": "a18e94f8",
   "metadata": {},
   "source": [
    "DATABASES WITH PYTHON"
   ]
  },
  {
   "cell_type": "code",
   "execution_count": 2,
   "id": "f138e44f",
   "metadata": {},
   "outputs": [],
   "source": [
    "from sqlalchemy import create_engine\n",
    "import pandas as pd\n",
    "engine = create_engine('sqlite:///Chinook.sqlite')\n"
   ]
  },
  {
   "cell_type": "code",
   "execution_count": null,
   "id": "40c02781",
   "metadata": {},
   "outputs": [],
   "source": [
    "table_names = engine.table_names()\n",
    "print(table_names)"
   ]
  },
  {
   "cell_type": "code",
   "execution_count": null,
   "id": "ad0f2488",
   "metadata": {},
   "outputs": [],
   "source": [
    "con = engine.connect() # crear conexion de motor con database, OBJETO AL QUE PODEMOS PEDIRLE QUE HAGA COSAS\n",
    "rs = con.execute('SELECT * FROM Invoice') # query de database"
   ]
  },
  {
   "cell_type": "code",
   "execution_count": null,
   "id": "7ffba679",
   "metadata": {},
   "outputs": [],
   "source": [
    "rs # columnas de la tabla invoice"
   ]
  },
  {
   "cell_type": "code",
   "execution_count": null,
   "id": "c594303c",
   "metadata": {},
   "outputs": [],
   "source": [
    "df= pd.DataFrame(rs.fetchall())\n",
    "df"
   ]
  },
  {
   "cell_type": "code",
   "execution_count": null,
   "id": "743bde11",
   "metadata": {},
   "outputs": [],
   "source": [
    "df.columns = rs.keys() # ponerle los nombres de las columnas originales al dataframe\n",
    "df"
   ]
  },
  {
   "cell_type": "code",
   "execution_count": null,
   "id": "d1d5a98e",
   "metadata": {},
   "outputs": [],
   "source": [
    "con.close()"
   ]
  },
  {
   "cell_type": "code",
   "execution_count": null,
   "id": "ff079131",
   "metadata": {},
   "outputs": [],
   "source": [
    "# Seleccionar solo 3 columnas\n",
    "with engine.connect() as con:\n",
    "    rs = con.execute('SELECT InvoiceDate, BillingAddress, BillingCity FROM Invoice ', engine)\n",
    "    df = pd.DataFrame(rs.fetchmany(size = 5)) # solo con 5 rows\n",
    "    df.columns = rs.keys()"
   ]
  },
  {
   "cell_type": "code",
   "execution_count": null,
   "id": "1161a094",
   "metadata": {},
   "outputs": [],
   "source": [
    "# Mas simple con pandas\n",
    "df = pd.read_sql_query(\"SELECT InvoiceDate, BillingAddress, BillingCity FROM Invoice\", engine)\n",
    "df"
   ]
  },
  {
   "cell_type": "code",
   "execution_count": null,
   "id": "498e78c1",
   "metadata": {},
   "outputs": [],
   "source": [
    "df = pd.read_sql_query(\"SELECT * FROM Invoice WHERE BillingCity = 'Boston' \", engine)\n",
    "df"
   ]
  },
  {
   "cell_type": "code",
   "execution_count": null,
   "id": "126f369c",
   "metadata": {},
   "outputs": [],
   "source": [
    "df = pd.read_sql_query(\"SELECT * FROM Invoice ORDER BY Total \", engine)\n",
    "df"
   ]
  },
  {
   "cell_type": "code",
   "execution_count": 4,
   "id": "b2813507",
   "metadata": {},
   "outputs": [],
   "source": [
    "import pandas as pd\n",
    "from sqlalchemy import create_engine\n",
    "engine = create_engine('sqlite:///Chinook.sqlite')\n",
    "# HACER UN INNER JOIN\n",
    "con = engine.connect() # crear conexion de motor con database, OBJETO AL QUE PODEMOS PEDIRLE QUE HAGA COSAS"
   ]
  },
  {
   "cell_type": "code",
   "execution_count": 5,
   "id": "07c04e5f",
   "metadata": {},
   "outputs": [
    {
     "name": "stderr",
     "output_type": "stream",
     "text": [
      "/var/folders/tc/wh31bclj4b33blvqrvps19t00000gn/T/ipykernel_68536/2273142574.py:1: SADeprecationWarning: The Engine.table_names() method is deprecated and will be removed in a future release.  Please refer to Inspector.get_table_names(). (deprecated since: 1.4)\n",
      "  table_names = engine.table_names()\n"
     ]
    }
   ],
   "source": [
    "table_names = engine.table_names()"
   ]
  },
  {
   "cell_type": "code",
   "execution_count": 6,
   "id": "5ba6a3b9",
   "metadata": {},
   "outputs": [],
   "source": [
    "rs = con.execute('SELECT * FROM Artist ar JOIN Album al ON ar.ArtistID = al.ArtistID') # query de database"
   ]
  },
  {
   "cell_type": "code",
   "execution_count": 7,
   "id": "31a7c680",
   "metadata": {},
   "outputs": [],
   "source": [
    "df = pd.DataFrame(rs.fetchall())\n",
    "df.columns = rs.keys()"
   ]
  },
  {
   "cell_type": "code",
   "execution_count": 8,
   "id": "5303161d",
   "metadata": {},
   "outputs": [
    {
     "data": {
      "text/html": [
       "<div>\n",
       "<style scoped>\n",
       "    .dataframe tbody tr th:only-of-type {\n",
       "        vertical-align: middle;\n",
       "    }\n",
       "\n",
       "    .dataframe tbody tr th {\n",
       "        vertical-align: top;\n",
       "    }\n",
       "\n",
       "    .dataframe thead th {\n",
       "        text-align: right;\n",
       "    }\n",
       "</style>\n",
       "<table border=\"1\" class=\"dataframe\">\n",
       "  <thead>\n",
       "    <tr style=\"text-align: right;\">\n",
       "      <th></th>\n",
       "      <th>ArtistId</th>\n",
       "      <th>Name</th>\n",
       "      <th>AlbumId</th>\n",
       "      <th>Title</th>\n",
       "      <th>ArtistId</th>\n",
       "    </tr>\n",
       "  </thead>\n",
       "  <tbody>\n",
       "    <tr>\n",
       "      <th>0</th>\n",
       "      <td>1</td>\n",
       "      <td>AC/DC</td>\n",
       "      <td>1</td>\n",
       "      <td>For Those About To Rock We Salute You</td>\n",
       "      <td>1</td>\n",
       "    </tr>\n",
       "    <tr>\n",
       "      <th>1</th>\n",
       "      <td>2</td>\n",
       "      <td>Accept</td>\n",
       "      <td>2</td>\n",
       "      <td>Balls to the Wall</td>\n",
       "      <td>2</td>\n",
       "    </tr>\n",
       "    <tr>\n",
       "      <th>2</th>\n",
       "      <td>2</td>\n",
       "      <td>Accept</td>\n",
       "      <td>3</td>\n",
       "      <td>Restless and Wild</td>\n",
       "      <td>2</td>\n",
       "    </tr>\n",
       "    <tr>\n",
       "      <th>3</th>\n",
       "      <td>1</td>\n",
       "      <td>AC/DC</td>\n",
       "      <td>4</td>\n",
       "      <td>Let There Be Rock</td>\n",
       "      <td>1</td>\n",
       "    </tr>\n",
       "    <tr>\n",
       "      <th>4</th>\n",
       "      <td>3</td>\n",
       "      <td>Aerosmith</td>\n",
       "      <td>5</td>\n",
       "      <td>Big Ones</td>\n",
       "      <td>3</td>\n",
       "    </tr>\n",
       "    <tr>\n",
       "      <th>...</th>\n",
       "      <td>...</td>\n",
       "      <td>...</td>\n",
       "      <td>...</td>\n",
       "      <td>...</td>\n",
       "      <td>...</td>\n",
       "    </tr>\n",
       "    <tr>\n",
       "      <th>342</th>\n",
       "      <td>226</td>\n",
       "      <td>Eugene Ormandy</td>\n",
       "      <td>343</td>\n",
       "      <td>Respighi:Pines of Rome</td>\n",
       "      <td>226</td>\n",
       "    </tr>\n",
       "    <tr>\n",
       "      <th>343</th>\n",
       "      <td>272</td>\n",
       "      <td>Emerson String Quartet</td>\n",
       "      <td>344</td>\n",
       "      <td>Schubert: The Late String Quartets &amp; String Qu...</td>\n",
       "      <td>272</td>\n",
       "    </tr>\n",
       "    <tr>\n",
       "      <th>344</th>\n",
       "      <td>273</td>\n",
       "      <td>C. Monteverdi, Nigel Rogers - Chiaroscuro; Lon...</td>\n",
       "      <td>345</td>\n",
       "      <td>Monteverdi: L'Orfeo</td>\n",
       "      <td>273</td>\n",
       "    </tr>\n",
       "    <tr>\n",
       "      <th>345</th>\n",
       "      <td>274</td>\n",
       "      <td>Nash Ensemble</td>\n",
       "      <td>346</td>\n",
       "      <td>Mozart: Chamber Music</td>\n",
       "      <td>274</td>\n",
       "    </tr>\n",
       "    <tr>\n",
       "      <th>346</th>\n",
       "      <td>275</td>\n",
       "      <td>Philip Glass Ensemble</td>\n",
       "      <td>347</td>\n",
       "      <td>Koyaanisqatsi (Soundtrack from the Motion Pict...</td>\n",
       "      <td>275</td>\n",
       "    </tr>\n",
       "  </tbody>\n",
       "</table>\n",
       "<p>347 rows × 5 columns</p>\n",
       "</div>"
      ],
      "text/plain": [
       "     ArtistId                                               Name  AlbumId  \\\n",
       "0           1                                              AC/DC        1   \n",
       "1           2                                             Accept        2   \n",
       "2           2                                             Accept        3   \n",
       "3           1                                              AC/DC        4   \n",
       "4           3                                          Aerosmith        5   \n",
       "..        ...                                                ...      ...   \n",
       "342       226                                     Eugene Ormandy      343   \n",
       "343       272                             Emerson String Quartet      344   \n",
       "344       273  C. Monteverdi, Nigel Rogers - Chiaroscuro; Lon...      345   \n",
       "345       274                                      Nash Ensemble      346   \n",
       "346       275                              Philip Glass Ensemble      347   \n",
       "\n",
       "                                                 Title  ArtistId  \n",
       "0                For Those About To Rock We Salute You         1  \n",
       "1                                    Balls to the Wall         2  \n",
       "2                                    Restless and Wild         2  \n",
       "3                                    Let There Be Rock         1  \n",
       "4                                             Big Ones         3  \n",
       "..                                                 ...       ...  \n",
       "342                             Respighi:Pines of Rome       226  \n",
       "343  Schubert: The Late String Quartets & String Qu...       272  \n",
       "344                                Monteverdi: L'Orfeo       273  \n",
       "345                              Mozart: Chamber Music       274  \n",
       "346  Koyaanisqatsi (Soundtrack from the Motion Pict...       275  \n",
       "\n",
       "[347 rows x 5 columns]"
      ]
     },
     "execution_count": 8,
     "metadata": {},
     "output_type": "execute_result"
    }
   ],
   "source": [
    "df"
   ]
  },
  {
   "cell_type": "code",
   "execution_count": null,
   "id": "7079a168",
   "metadata": {},
   "outputs": [],
   "source": []
  },
  {
   "cell_type": "code",
   "execution_count": null,
   "id": "b232bdfa",
   "metadata": {},
   "outputs": [],
   "source": []
  }
 ],
 "metadata": {
  "kernelspec": {
   "display_name": "Python 3 (ipykernel)",
   "language": "python",
   "name": "python3"
  },
  "language_info": {
   "codemirror_mode": {
    "name": "ipython",
    "version": 3
   },
   "file_extension": ".py",
   "mimetype": "text/x-python",
   "name": "python",
   "nbconvert_exporter": "python",
   "pygments_lexer": "ipython3",
   "version": "3.9.5"
  }
 },
 "nbformat": 4,
 "nbformat_minor": 5
}
