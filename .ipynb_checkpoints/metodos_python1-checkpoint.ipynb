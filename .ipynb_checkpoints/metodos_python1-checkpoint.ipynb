{
 "cells": [
  {
   "cell_type": "markdown",
   "id": "80e3d3ca",
   "metadata": {},
   "source": [
    "OPERACIONES BASICAS PYTHON\n",
    "Sofia Salazar\n",
    "18 ago 2021"
   ]
  },
  {
   "cell_type": "code",
   "execution_count": 2,
   "id": "d7c9f6ce",
   "metadata": {},
   "outputs": [
    {
     "name": "stdout",
     "output_type": "stream",
     "text": [
      "4 <class 'int'>\n"
     ]
    }
   ],
   "source": [
    "x = 4 # Declarar la variable\n",
    "print(x, type(x)) # Imprimir el tipo de 3"
   ]
  },
  {
   "cell_type": "code",
   "execution_count": 3,
   "id": "3be638e4",
   "metadata": {},
   "outputs": [
    {
     "name": "stdout",
     "output_type": "stream",
     "text": [
      "7\n",
      "1\n",
      "12\n"
     ]
    }
   ],
   "source": [
    "print(x + 3) # Suma\n",
    "print(x - 3) # Resta\n",
    "print(x * 3) # Multiplicacion"
   ]
  },
  {
   "cell_type": "code",
   "execution_count": 4,
   "id": "c6bc6b4a",
   "metadata": {},
   "outputs": [
    {
     "name": "stdout",
     "output_type": "stream",
     "text": [
      "4\n",
      "5\n",
      "10\n"
     ]
    }
   ],
   "source": [
    "print(x)\n",
    "x += 1 # Igual que x = x +1\n",
    "print(x)\n",
    "x *= 2\n",
    "print(x)"
   ]
  },
  {
   "cell_type": "code",
   "execution_count": 5,
   "id": "689ffdec",
   "metadata": {},
   "outputs": [
    {
     "name": "stdout",
     "output_type": "stream",
     "text": [
      "<class 'float'>\n",
      "2.5 3.5 5.0 6.25\n"
     ]
    }
   ],
   "source": [
    "y = 2.5\n",
    "print(type(y))\n",
    "print(y, y+1, y * 2, y**2)"
   ]
  },
  {
   "cell_type": "code",
   "execution_count": 7,
   "id": "12347780",
   "metadata": {},
   "outputs": [
    {
     "name": "stdout",
     "output_type": "stream",
     "text": [
      "<class 'bool'>\n",
      "<class 'bool'>\n",
      "True\n",
      "False\n"
     ]
    }
   ],
   "source": [
    "t, f = True, False\n",
    "print(type(t)) # Tiene que decir que es un booleano\n",
    "print(type(f))\n",
    "print(t)\n",
    "print(f)"
   ]
  },
  {
   "cell_type": "markdown",
   "id": "8ac9649f",
   "metadata": {},
   "source": [
    "Operadores logicos"
   ]
  },
  {
   "cell_type": "code",
   "execution_count": 8,
   "id": "99b4b55d",
   "metadata": {},
   "outputs": [
    {
     "name": "stdout",
     "output_type": "stream",
     "text": [
      "False\n",
      "True\n",
      "False\n",
      "True\n"
     ]
    }
   ],
   "source": [
    "print(t and f) # AND, &\n",
    "print(t or f) # OR, |\n",
    "print(not t)\n",
    "print( t!= f) # XOR, distinto a"
   ]
  },
  {
   "cell_type": "markdown",
   "id": "e9a2dcae",
   "metadata": {},
   "source": [
    "Cadenas de texto"
   ]
  },
  {
   "cell_type": "code",
   "execution_count": 9,
   "id": "3a603183",
   "metadata": {},
   "outputs": [
    {
     "name": "stdout",
     "output_type": "stream",
     "text": [
      "hello 5\n"
     ]
    }
   ],
   "source": [
    "hello = 'hello'\n",
    "world = 'world'\n",
    "print(hello, len(hello))\n"
   ]
  },
  {
   "cell_type": "code",
   "execution_count": null,
   "id": "087f65ec",
   "metadata": {},
   "outputs": [],
   "source": [
    "hw = hello + ' ' + world # Concatencacion de cadenas"
   ]
  },
  {
   "cell_type": "code",
   "execution_count": 15,
   "id": "49083229",
   "metadata": {},
   "outputs": [
    {
     "name": "stdout",
     "output_type": "stream",
     "text": [
      "Hello\n",
      "HELLO\n",
      "  hello\n",
      " hello \n",
      "he(ell)(ell)o\n",
      "world\n"
     ]
    }
   ],
   "source": [
    "s = \"hello\"\n",
    "print(s.capitalize()) # primera en mayuscula\n",
    "print(s.upper()) # todo en mayuscula\n",
    "print(s.rjust(7)) # justificar con 7 espacios\n",
    "print(s.center(7)) # centrar con 7 espacios\n",
    "print(s.replace('l', '(ell)')) # remplazar l con (ell)\n",
    "print('   world     '.strip()) # le quita los espacios a lo que le de antes"
   ]
  },
  {
   "cell_type": "markdown",
   "id": "da693a2c",
   "metadata": {},
   "source": [
    "Listas"
   ]
  },
  {
   "cell_type": "code",
   "execution_count": 11,
   "id": "91007c13",
   "metadata": {},
   "outputs": [
    {
     "name": "stdout",
     "output_type": "stream",
     "text": [
      "[0, 1, 2, 3] 2\n",
      "3\n"
     ]
    }
   ],
   "source": [
    "xs = [0, 1, 2, 3]\n",
    "print(xs, xs[2])\n",
    "print(xs[-1]) # acceder al ultimo valor de la lista"
   ]
  },
  {
   "cell_type": "code",
   "execution_count": 12,
   "id": "64cc116a",
   "metadata": {},
   "outputs": [
    {
     "name": "stdout",
     "output_type": "stream",
     "text": [
      "[0, 1, 'fox2', 3]\n"
     ]
    }
   ],
   "source": [
    "xs[2] = 'fox2' # remplazar un valor de la lista\n",
    "print(xs)"
   ]
  },
  {
   "cell_type": "code",
   "execution_count": 13,
   "id": "c0cf95e0",
   "metadata": {},
   "outputs": [
    {
     "name": "stdout",
     "output_type": "stream",
     "text": [
      "[0, 1, 'fox2', 3, 'bar']\n"
     ]
    }
   ],
   "source": [
    "xs.append('bar')\n",
    "print(xs) # agregar un elemento al final"
   ]
  },
  {
   "cell_type": "code",
   "execution_count": 14,
   "id": "50b06c5a",
   "metadata": {},
   "outputs": [
    {
     "name": "stdout",
     "output_type": "stream",
     "text": [
      "bar [0, 1, 'fox2', 3]\n"
     ]
    }
   ],
   "source": [
    "x = xs.pop() # sacar el valor de la lista y asignarlo a una variable\n",
    "print(x, xs) # tambien se modifica la lista y se quita ese valor"
   ]
  },
  {
   "cell_type": "code",
   "execution_count": 16,
   "id": "9a1f66f5",
   "metadata": {},
   "outputs": [
    {
     "name": "stdout",
     "output_type": "stream",
     "text": [
      "[0, 1, 2, 3, 4]\n",
      "[2, 3]\n",
      "[2, 3, 4]\n",
      "[0, 1]\n",
      "[0, 1, 2, 3]\n",
      "[0, 1, 8, 9, 4]\n"
     ]
    }
   ],
   "source": [
    "nums = list(range(5)) # hace una lista del 0 al 4\n",
    "print(nums)\n",
    "print(nums[2:4])\n",
    "print(nums[2:]) # del 2 al final\n",
    "print(nums[:2]) # del principio al 2\n",
    "print(nums[:-1]) # del penultimo al principio\n",
    "nums[2:4] = [8, 9] # remplazar unos valores\n",
    "print(nums)\n"
   ]
  },
  {
   "cell_type": "code",
   "execution_count": 17,
   "id": "4ef1e4c1",
   "metadata": {},
   "outputs": [
    {
     "name": "stdout",
     "output_type": "stream",
     "text": [
      "gato\n",
      "perro\n",
      "chango\n"
     ]
    }
   ],
   "source": [
    "animales = ['gato', 'perro', 'chango'] # imprimir elementos en lista (iterar)\n",
    "for animal in animales:\n",
    "    print(animal)"
   ]
  },
  {
   "cell_type": "code",
   "execution_count": 18,
   "id": "49b1e335",
   "metadata": {},
   "outputs": [
    {
     "name": "stdout",
     "output_type": "stream",
     "text": [
      "#1: gato\n",
      "#2: perro\n",
      "#3: chango\n"
     ]
    }
   ],
   "source": [
    "animales = ['gato', 'perro', 'chango'] \n",
    "for idx, animal in enumerate(animales): # primero da el index y luego el valor para ese iterador\n",
    "    print('#{}: {}'.format(idx + 1, animal)) # dentro de format se ponen los valores que\n",
    "    # se van a asignar a los {}"
   ]
  },
  {
   "cell_type": "code",
   "execution_count": 19,
   "id": "84e2512e",
   "metadata": {},
   "outputs": [
    {
     "name": "stdout",
     "output_type": "stream",
     "text": [
      "[0, 1, 4, 9, 16]\n"
     ]
    }
   ],
   "source": [
    "nums = [0, 1, 2, 3, 4]\n",
    "squares = []\n",
    "for x in nums: # agregar los cuadrados a la lista squares\n",
    "    squares.append(x**2)\n",
    "print(squares)"
   ]
  },
  {
   "cell_type": "markdown",
   "id": "277041ef",
   "metadata": {},
   "source": [
    "List comprehensions (comprensiones de listas)"
   ]
  },
  {
   "cell_type": "code",
   "execution_count": null,
   "id": "fe633ddd",
   "metadata": {},
   "outputs": [],
   "source": [
    "nums = [0, 1, 2, 3, 4] # hace lo mismo que arriba en una sola linea\n",
    "squares = [x**2 for x in nums] # hago x**2 antes de declarar x\n",
    "print(squares)"
   ]
  },
  {
   "cell_type": "code",
   "execution_count": null,
   "id": "b349bc72",
   "metadata": {},
   "outputs": [],
   "source": [
    "nums = [0, 1, 2, 3, 4]\n",
    "even_squares = [x**2 for x in nums if x % 2==0] # imprimir solo los cuadrados de los pares\n",
    "print(even_squares)"
   ]
  },
  {
   "cell_type": "markdown",
   "id": "a2f560f7",
   "metadata": {},
   "source": [
    "Diccionarios"
   ]
  },
  {
   "cell_type": "code",
   "execution_count": 20,
   "id": "6eee09fc",
   "metadata": {},
   "outputs": [
    {
     "name": "stdout",
     "output_type": "stream",
     "text": [
      "arena\n",
      "True\n"
     ]
    }
   ],
   "source": [
    "d = {'gato':'arena', 'perro':'parque'} #key : valor\n",
    "print(d['gato']) # imprimir de d imprimir el valor de llave gato\n",
    "print ('gato' in d) # imprimir si gato esta dentro de d\n"
   ]
  },
  {
   "cell_type": "code",
   "execution_count": 21,
   "id": "74dc760a",
   "metadata": {},
   "outputs": [
    {
     "name": "stdout",
     "output_type": "stream",
     "text": [
      "agua\n"
     ]
    }
   ],
   "source": [
    "d['pez'] = 'agua' # agregar key y valor a diccionario\n",
    "print(d['pez'])"
   ]
  },
  {
   "cell_type": "code",
   "execution_count": 22,
   "id": "fe6edf7e",
   "metadata": {},
   "outputs": [
    {
     "ename": "KeyError",
     "evalue": "'chango'",
     "output_type": "error",
     "traceback": [
      "\u001b[0;31m---------------------------------------------------------------------------\u001b[0m",
      "\u001b[0;31mKeyError\u001b[0m                                  Traceback (most recent call last)",
      "\u001b[0;32m/var/folders/tc/wh31bclj4b33blvqrvps19t00000gn/T/ipykernel_58842/1045332520.py\u001b[0m in \u001b[0;36m<module>\u001b[0;34m\u001b[0m\n\u001b[0;32m----> 1\u001b[0;31m \u001b[0mprint\u001b[0m\u001b[0;34m(\u001b[0m\u001b[0md\u001b[0m\u001b[0;34m[\u001b[0m\u001b[0;34m'chango'\u001b[0m\u001b[0;34m]\u001b[0m\u001b[0;34m)\u001b[0m \u001b[0;31m# error\u001b[0m\u001b[0;34m\u001b[0m\u001b[0;34m\u001b[0m\u001b[0m\n\u001b[0m",
      "\u001b[0;31mKeyError\u001b[0m: 'chango'"
     ]
    }
   ],
   "source": [
    "print(d['chango']) # error"
   ]
  },
  {
   "cell_type": "code",
   "execution_count": 23,
   "id": "07a120d4",
   "metadata": {},
   "outputs": [
    {
     "name": "stdout",
     "output_type": "stream",
     "text": [
      "N/A\n",
      "agua\n"
     ]
    }
   ],
   "source": [
    "print(d.get('chango', 'N/A')) # Imprime el valor o decir si no existe\n",
    "print(d.get('pez', 'N/A'))"
   ]
  },
  {
   "cell_type": "code",
   "execution_count": 24,
   "id": "5a46f3ab",
   "metadata": {},
   "outputs": [
    {
     "name": "stdout",
     "output_type": "stream",
     "text": [
      "N/A\n"
     ]
    }
   ],
   "source": [
    "del d['pez'] # Borrar key pez y su valor\n",
    "print(d.get('pez', 'N/A'))"
   ]
  },
  {
   "cell_type": "code",
   "execution_count": 26,
   "id": "7938cf73",
   "metadata": {},
   "outputs": [
    {
     "name": "stdout",
     "output_type": "stream",
     "text": [
      "Un humano tiene 2 patas\n",
      "Un gato tiene 4 patas\n",
      "Un aracnido tiene 8 patas\n"
     ]
    }
   ],
   "source": [
    "d = {'humano':2, 'gato':4, 'aracnido':8}\n",
    "for animal, patas in d.items(): # accesa a lo que hay dentro de diccionario KEY:VALOR\n",
    "    print('Un {} tiene {} patas'.format(animal, patas))"
   ]
  },
  {
   "cell_type": "markdown",
   "id": "466b0f5d",
   "metadata": {},
   "source": [
    "Dictionary comprehensions"
   ]
  },
  {
   "cell_type": "code",
   "execution_count": 27,
   "id": "b753375b",
   "metadata": {},
   "outputs": [
    {
     "name": "stdout",
     "output_type": "stream",
     "text": [
      "{0: 0, 2: 4, 4: 16}\n"
     ]
    }
   ],
   "source": [
    "nums = [0, 1, 2, 3, 4]\n",
    "pares_a_cuadrados = {x:x**2 for x in nums if x % 2 == 0} # si el elemento de la lista nums\n",
    "# son cuadrados, entonces se agrega al diccionario y su key es el elemento original\n",
    "print(pares_a_cuadrados)"
   ]
  },
  {
   "cell_type": "markdown",
   "id": "9daf010d",
   "metadata": {},
   "source": [
    "SETS\n",
    "No puede tener elementos repetidos\n",
    "No tienen indices\n",
    "No tienen orden"
   ]
  },
  {
   "cell_type": "code",
   "execution_count": 30,
   "id": "f79ab2df",
   "metadata": {},
   "outputs": [
    {
     "name": "stdout",
     "output_type": "stream",
     "text": [
      "True\n",
      "False\n"
     ]
    }
   ],
   "source": [
    "animales = {'gato', 'perro'} # set diccionario de solo llaves\n",
    "print('gato' in animales)\n",
    "print('pez' in animales)"
   ]
  },
  {
   "cell_type": "code",
   "execution_count": 31,
   "id": "f031eb28",
   "metadata": {},
   "outputs": [
    {
     "name": "stdout",
     "output_type": "stream",
     "text": [
      "True\n",
      "3\n"
     ]
    }
   ],
   "source": [
    "animales.add('pez')\n",
    "print('pez' in animales)\n",
    "print(len(animales))"
   ]
  },
  {
   "cell_type": "code",
   "execution_count": 32,
   "id": "e4ec5c06",
   "metadata": {},
   "outputs": [
    {
     "name": "stdout",
     "output_type": "stream",
     "text": [
      "3\n",
      "2\n"
     ]
    }
   ],
   "source": [
    "animales.add('gato') # se agrega gato otra vez, entonces la longitud sigue siendo 3\n",
    "print(len(animales))\n",
    "animales.remove('gato')\n",
    "print(len(animales))"
   ]
  },
  {
   "cell_type": "markdown",
   "id": "c0c2a6c4",
   "metadata": {},
   "source": [
    "Loops"
   ]
  },
  {
   "cell_type": "code",
   "execution_count": 33,
   "id": "0730f3f9",
   "metadata": {},
   "outputs": [
    {
     "name": "stdout",
     "output_type": "stream",
     "text": [
      "#1: perro\n",
      "#2: pez\n",
      "#3: gato\n"
     ]
    }
   ],
   "source": [
    "animales = {'gato', 'perro', 'pez'}\n",
    "for idx, animal in enumerate(animales):\n",
    "    print('#{}: {}'.format(idx + 1, animal))\n",
    "    # se imprimen en orden distinto, porque no tienen orden"
   ]
  },
  {
   "cell_type": "markdown",
   "id": "cfdf5170",
   "metadata": {},
   "source": [
    "Set comprehensions"
   ]
  },
  {
   "cell_type": "code",
   "execution_count": 34,
   "id": "c6ce1544",
   "metadata": {},
   "outputs": [
    {
     "name": "stdout",
     "output_type": "stream",
     "text": [
      "{0, 1, 2, 3, 4, 5}\n"
     ]
    }
   ],
   "source": [
    "from math import sqrt\n",
    "print({int(sqrt(x)) for x in range(30)}) # la x es lo que esta dentro del rango 0 a 30"
   ]
  },
  {
   "cell_type": "markdown",
   "id": "8da6a120",
   "metadata": {},
   "source": [
    "Tuplas\n",
    "Conjuntos de datos que no pueden ser modificados"
   ]
  },
  {
   "cell_type": "code",
   "execution_count": 35,
   "id": "007499c8",
   "metadata": {},
   "outputs": [
    {
     "name": "stdout",
     "output_type": "stream",
     "text": [
      "<class 'tuple'>\n",
      "{(0, 1): 0, (1, 2): 1, (2, 3): 2, (3, 4): 3, (4, 5): 4, (5, 6): 5, (6, 7): 6, (7, 8): 7, (8, 9): 8, (9, 10): 9}\n",
      "5\n",
      "1\n"
     ]
    }
   ],
   "source": [
    "d = {(x, x + 1):x for x in range(10)} # diccionario con las llaves como tuplas\n",
    "t = (5, 6)\n",
    "print(type(t))\n",
    "print(d)\n",
    "print(d[t])\n",
    "print(d[(1, 2)])"
   ]
  },
  {
   "cell_type": "code",
   "execution_count": 36,
   "id": "42e2f36f",
   "metadata": {},
   "outputs": [
    {
     "ename": "TypeError",
     "evalue": "'tuple' object does not support item assignment",
     "output_type": "error",
     "traceback": [
      "\u001b[0;31m---------------------------------------------------------------------------\u001b[0m",
      "\u001b[0;31mTypeError\u001b[0m                                 Traceback (most recent call last)",
      "\u001b[0;32m/var/folders/tc/wh31bclj4b33blvqrvps19t00000gn/T/ipykernel_58842/2300799188.py\u001b[0m in \u001b[0;36m<module>\u001b[0;34m\u001b[0m\n\u001b[0;32m----> 1\u001b[0;31m \u001b[0mt\u001b[0m\u001b[0;34m[\u001b[0m\u001b[0;36m0\u001b[0m\u001b[0;34m]\u001b[0m \u001b[0;34m=\u001b[0m \u001b[0;36m1\u001b[0m \u001b[0;31m# no se pueden modificar las tuplas\u001b[0m\u001b[0;34m\u001b[0m\u001b[0;34m\u001b[0m\u001b[0m\n\u001b[0m",
      "\u001b[0;31mTypeError\u001b[0m: 'tuple' object does not support item assignment"
     ]
    }
   ],
   "source": [
    "t[0] = 1 # no se pueden modificar las tuplas"
   ]
  },
  {
   "cell_type": "markdown",
   "id": "420f963b",
   "metadata": {},
   "source": [
    "Funciones"
   ]
  },
  {
   "cell_type": "code",
   "execution_count": 38,
   "id": "271d83f9",
   "metadata": {},
   "outputs": [
    {
     "name": "stdout",
     "output_type": "stream",
     "text": [
      "negative\n",
      "zero\n",
      "positive\n"
     ]
    }
   ],
   "source": [
    "def sign(x):  # imprime el resultado dependiendo del argumento que se le pase\n",
    "    if x > 0:\n",
    "        return 'positive'\n",
    "    elif x<0:\n",
    "        return 'negative'\n",
    "    else:\n",
    "        return 'zero'\n",
    "    \n",
    "    \n",
    "for x in [-1, 0, 1]:\n",
    "    print(sign(x))  # aqui se llama a la funcion"
   ]
  },
  {
   "cell_type": "code",
   "execution_count": 41,
   "id": "3de6bdb4",
   "metadata": {},
   "outputs": [
    {
     "name": "stdout",
     "output_type": "stream",
     "text": [
      "Hello, Bob!\n",
      "HELLO, FRED!!!!!\n"
     ]
    }
   ],
   "source": [
    "def hello(name, loud = False):  # recibe 2 argumentos, uno es booleano, por default FALSO\n",
    "    if loud: # Si es True, se escribe el nombre en mayuscula\n",
    "        print('HELLO, {}!!!!!'.format(name.upper())) # va a poner el nombre en mayuscula\n",
    "    else: # si se queda en falso, se imprime como se manda el nombre\n",
    "        print('Hello, {}!'.format(name))\n",
    "        \n",
    "hello('Bob')\n",
    "hello('Fred', loud = True)"
   ]
  },
  {
   "cell_type": "markdown",
   "id": "732ab633",
   "metadata": {},
   "source": [
    "NUMPY"
   ]
  },
  {
   "cell_type": "code",
   "execution_count": null,
   "id": "6122aee7",
   "metadata": {},
   "outputs": [],
   "source": []
  },
  {
   "cell_type": "code",
   "execution_count": null,
   "id": "a110b8a3",
   "metadata": {},
   "outputs": [],
   "source": []
  }
 ],
 "metadata": {
  "kernelspec": {
   "display_name": "Python 3 (ipykernel)",
   "language": "python",
   "name": "python3"
  },
  "language_info": {
   "codemirror_mode": {
    "name": "ipython",
    "version": 3
   },
   "file_extension": ".py",
   "mimetype": "text/x-python",
   "name": "python",
   "nbconvert_exporter": "python",
   "pygments_lexer": "ipython3",
   "version": "3.9.5"
  }
 },
 "nbformat": 4,
 "nbformat_minor": 5
}
